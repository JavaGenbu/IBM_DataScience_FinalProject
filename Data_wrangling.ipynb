{
  "cells": [
    {
      "attachments": {},
      "cell_type": "markdown",
      "metadata": {
        "id": "8658d232-4557-4466-bb4f-8dd3a8366295"
      },
      "source": [
        "<p style=\"text-align:center\">\n",
        "    <a href=\"https://skills.network/?utm_medium=Exinfluencer&utm_source=Exinfluencer&utm_content=000026UJ&utm_term=10006555&utm_id=NA-SkillsNetwork-Channel-SkillsNetworkCoursesIBMDS0321ENSkillsNetwork865-2023-01-01\">\n",
        "    <img src=\"https://cf-courses-data.s3.us.cloud-object-storage.appdomain.cloud/assets/logos/SN_web_lightmode.png\" width=\"200\" alt=\"Skills Network Logo\"  />\n",
        "    </a>\n",
        "</p>\n"
      ]
    },
    {
      "attachments": {},
      "cell_type": "markdown",
      "metadata": {
        "id": "303daa7b-edb6-440b-92c5-90f1f1ba425a"
      },
      "source": [
        "# **Space X  Falcon 9 First Stage Landing Prediction**\n"
      ]
    },
    {
      "attachments": {},
      "cell_type": "markdown",
      "metadata": {
        "id": "d65bd6d4-baa7-4766-a3e9-2c2d35031275"
      },
      "source": [
        "## Lab 2: Data wrangling \n"
      ]
    },
    {
      "attachments": {},
      "cell_type": "markdown",
      "metadata": {
        "id": "666f9231-5042-4dc5-b125-6d1ce83c6a9f"
      },
      "source": [
        "Estimated time needed: **60** minutes\n"
      ]
    },
    {
      "attachments": {},
      "cell_type": "markdown",
      "metadata": {
        "id": "d3f2f4e1-6d9c-450b-a337-5c16827745b3"
      },
      "source": [
        "In this lab, we will perform some Exploratory Data Analysis (EDA) to find some patterns in the data and determine what would be the label for training supervised models. \n",
        "\n",
        "In the data set, there are several different cases where the booster did not land successfully. Sometimes a landing was attempted but failed due to an accident; for example, <code>True Ocean</code> means the mission outcome was successfully  landed to a specific region of the ocean while <code>False Ocean</code> means the mission outcome was unsuccessfully landed to a specific region of the ocean. <code>True RTLS</code> means the mission outcome was successfully  landed to a ground pad <code>False RTLS</code> means the mission outcome was unsuccessfully landed to a ground pad.<code>True ASDS</code> means the mission outcome was successfully landed on  a drone ship <code>False ASDS</code> means the mission outcome was unsuccessfully landed on a drone ship. \n",
        "\n",
        "In this lab we will mainly convert those outcomes into Training Labels with `1` means the booster successfully landed `0` means it was unsuccessful.\n"
      ]
    },
    {
      "attachments": {},
      "cell_type": "markdown",
      "metadata": {
        "id": "ef904382-ef88-4ffd-a5dc-0d4bf2fa2ea2"
      },
      "source": [
        "Falcon 9 first stage will land successfully\n"
      ]
    },
    {
      "attachments": {},
      "cell_type": "markdown",
      "metadata": {
        "id": "7d07348f-bef6-4662-86a7-b98f95577729"
      },
      "source": [
        "![](https://cf-courses-data.s3.us.cloud-object-storage.appdomain.cloud/IBMDeveloperSkillsNetwork-DS0701EN-SkillsNetwork/api/Images/landing_1.gif)\n"
      ]
    },
    {
      "attachments": {},
      "cell_type": "markdown",
      "metadata": {
        "id": "5c42cce7-a938-42cc-88db-d57e9156ccfa"
      },
      "source": [
        "Several examples of an unsuccessful landing are shown here:\n"
      ]
    },
    {
      "attachments": {},
      "cell_type": "markdown",
      "metadata": {
        "id": "3bf5dce0-b986-415e-8121-fe0acbd4a83c"
      },
      "source": [
        "![](https://cf-courses-data.s3.us.cloud-object-storage.appdomain.cloud/IBMDeveloperSkillsNetwork-DS0701EN-SkillsNetwork/api/Images/crash.gif)\n"
      ]
    },
    {
      "attachments": {},
      "cell_type": "markdown",
      "metadata": {
        "id": "e9f3ebf8-b43e-4407-bd4a-068b9358c902"
      },
      "source": [
        "   \n"
      ]
    },
    {
      "attachments": {},
      "cell_type": "markdown",
      "metadata": {
        "id": "80626dc5-5a66-45e2-a011-072ef15600d9"
      },
      "source": [
        "## Objectives\n",
        "Perform exploratory  Data Analysis and determine Training Labels \n",
        "\n",
        "- Exploratory Data Analysis\n",
        "- Determine Training Labels \n"
      ]
    },
    {
      "attachments": {},
      "cell_type": "markdown",
      "metadata": {
        "id": "996c30b7-04e3-4955-b1be-be9f11a22111"
      },
      "source": [
        "----\n"
      ]
    },
    {
      "attachments": {},
      "cell_type": "markdown",
      "metadata": {
        "id": "41e23a0e-fc84-4fd8-aebe-7e7774b1f6c8"
      },
      "source": [
        "## Import Libraries and Define Auxiliary Functions\n"
      ]
    },
    {
      "attachments": {},
      "cell_type": "markdown",
      "metadata": {
        "id": "b007805b-a01f-4d1d-88f1-0b56e29fa3f0"
      },
      "source": [
        "We will import the following libraries.\n"
      ]
    },
    {
      "cell_type": "code",
      "execution_count": 1,
      "metadata": {
        "id": "a756a3c3-de75-47d2-ab51-1ee77dc8b227"
      },
      "outputs": [],
      "source": [
        "# Pandas is a software library written for the Python programming language for data manipulation and analysis.\n",
        "import pandas as pd\n",
        "#NumPy is a library for the Python programming language, adding support for large, multi-dimensional arrays and matrices, along with a large collection of high-level mathematical functions to operate on these arrays\n",
        "import numpy as np"
      ]
    },
    {
      "attachments": {},
      "cell_type": "markdown",
      "metadata": {
        "id": "7047b83b-077d-4bb3-a24d-c4b8cffc26ec"
      },
      "source": [
        "### Data Analysis \n"
      ]
    },
    {
      "attachments": {},
      "cell_type": "markdown",
      "metadata": {
        "id": "13fe1179-9ee2-4fe3-a149-17db874ff5d7"
      },
      "source": [
        "Load Space X dataset, from last section.\n"
      ]
    },
    {
      "cell_type": "code",
      "execution_count": 5,
      "metadata": {
        "colab": {
          "base_uri": "https://localhost:8080/",
          "height": 528
        },
        "id": "8f8b0ff0-f340-4fe7-b9d3-60dc68c8f974",
        "outputId": "f56dec10-0cc9-4ec7-aa24-dfa612c4c4da"
      },
      "outputs": [
        {
          "data": {
            "text/html": [
              "<div>\n",
              "<style scoped>\n",
              "    .dataframe tbody tr th:only-of-type {\n",
              "        vertical-align: middle;\n",
              "    }\n",
              "\n",
              "    .dataframe tbody tr th {\n",
              "        vertical-align: top;\n",
              "    }\n",
              "\n",
              "    .dataframe thead th {\n",
              "        text-align: right;\n",
              "    }\n",
              "</style>\n",
              "<table border=\"1\" class=\"dataframe\">\n",
              "  <thead>\n",
              "    <tr style=\"text-align: right;\">\n",
              "      <th></th>\n",
              "      <th>Flight No.</th>\n",
              "      <th>Launch site</th>\n",
              "      <th>Payload</th>\n",
              "      <th>Payload mass</th>\n",
              "      <th>Orbit</th>\n",
              "      <th>Customer</th>\n",
              "      <th>Launch outcome</th>\n",
              "      <th>Version Booster</th>\n",
              "      <th>Booster landing</th>\n",
              "      <th>Date</th>\n",
              "      <th>Time</th>\n",
              "    </tr>\n",
              "  </thead>\n",
              "  <tbody>\n",
              "    <tr>\n",
              "      <th>0</th>\n",
              "      <td>1</td>\n",
              "      <td>CCAFS</td>\n",
              "      <td>Dragon Spacecraft Qualification Unit</td>\n",
              "      <td>0</td>\n",
              "      <td>LEO</td>\n",
              "      <td>SpaceX</td>\n",
              "      <td>Success\\n</td>\n",
              "      <td>F9 v1.0B0003.1</td>\n",
              "      <td>Failure</td>\n",
              "      <td>4 June 2010</td>\n",
              "      <td>18:45</td>\n",
              "    </tr>\n",
              "    <tr>\n",
              "      <th>1</th>\n",
              "      <td>2</td>\n",
              "      <td>CCAFS</td>\n",
              "      <td>Dragon</td>\n",
              "      <td>0</td>\n",
              "      <td>LEO</td>\n",
              "      <td>NASA</td>\n",
              "      <td>Success</td>\n",
              "      <td>F9 v1.0B0004.1</td>\n",
              "      <td>Failure</td>\n",
              "      <td>8 December 2010</td>\n",
              "      <td>15:43</td>\n",
              "    </tr>\n",
              "    <tr>\n",
              "      <th>2</th>\n",
              "      <td>3</td>\n",
              "      <td>CCAFS</td>\n",
              "      <td>Dragon</td>\n",
              "      <td>525 kg</td>\n",
              "      <td>LEO</td>\n",
              "      <td>NASA</td>\n",
              "      <td>Success</td>\n",
              "      <td>F9 v1.0B0005.1</td>\n",
              "      <td>No attempt\\n</td>\n",
              "      <td>22 May 2012</td>\n",
              "      <td>07:44</td>\n",
              "    </tr>\n",
              "    <tr>\n",
              "      <th>3</th>\n",
              "      <td>4</td>\n",
              "      <td>CCAFS</td>\n",
              "      <td>SpaceX CRS-1</td>\n",
              "      <td>4,700 kg</td>\n",
              "      <td>LEO</td>\n",
              "      <td>NASA</td>\n",
              "      <td>Success\\n</td>\n",
              "      <td>F9 v1.0B0006.1</td>\n",
              "      <td>No attempt</td>\n",
              "      <td>8 October 2012</td>\n",
              "      <td>00:35</td>\n",
              "    </tr>\n",
              "    <tr>\n",
              "      <th>4</th>\n",
              "      <td>5</td>\n",
              "      <td>CCAFS</td>\n",
              "      <td>SpaceX CRS-2</td>\n",
              "      <td>4,877 kg</td>\n",
              "      <td>LEO</td>\n",
              "      <td>NASA</td>\n",
              "      <td>Success\\n</td>\n",
              "      <td>F9 v1.0B0007.1</td>\n",
              "      <td>No attempt\\n</td>\n",
              "      <td>1 March 2013</td>\n",
              "      <td>15:10</td>\n",
              "    </tr>\n",
              "    <tr>\n",
              "      <th>5</th>\n",
              "      <td>6</td>\n",
              "      <td>VAFB</td>\n",
              "      <td>CASSIOPE</td>\n",
              "      <td>500 kg</td>\n",
              "      <td>Polar orbit</td>\n",
              "      <td>MDA</td>\n",
              "      <td>Success</td>\n",
              "      <td>F9 v1.1B1003</td>\n",
              "      <td>Uncontrolled</td>\n",
              "      <td>29 September 2013</td>\n",
              "      <td>16:00</td>\n",
              "    </tr>\n",
              "    <tr>\n",
              "      <th>6</th>\n",
              "      <td>7</td>\n",
              "      <td>CCAFS</td>\n",
              "      <td>SES-8</td>\n",
              "      <td>3,170 kg</td>\n",
              "      <td>GTO</td>\n",
              "      <td>SES</td>\n",
              "      <td>Success</td>\n",
              "      <td>F9 v1.1</td>\n",
              "      <td>No attempt</td>\n",
              "      <td>3 December 2013</td>\n",
              "      <td>22:41</td>\n",
              "    </tr>\n",
              "    <tr>\n",
              "      <th>7</th>\n",
              "      <td>8</td>\n",
              "      <td>CCAFS</td>\n",
              "      <td>Thaicom 6</td>\n",
              "      <td>3,325 kg</td>\n",
              "      <td>GTO</td>\n",
              "      <td>Thaicom</td>\n",
              "      <td>Success</td>\n",
              "      <td>F9 v1.1</td>\n",
              "      <td>No attempt</td>\n",
              "      <td>6 January 2014</td>\n",
              "      <td>22:06</td>\n",
              "    </tr>\n",
              "    <tr>\n",
              "      <th>8</th>\n",
              "      <td>9</td>\n",
              "      <td>Cape Canaveral</td>\n",
              "      <td>SpaceX CRS-3</td>\n",
              "      <td>2,296 kg</td>\n",
              "      <td>LEO</td>\n",
              "      <td>NASA</td>\n",
              "      <td>Success\\n</td>\n",
              "      <td>F9 v1.1</td>\n",
              "      <td>Controlled</td>\n",
              "      <td>18 April 2014</td>\n",
              "      <td>19:25</td>\n",
              "    </tr>\n",
              "    <tr>\n",
              "      <th>9</th>\n",
              "      <td>10</td>\n",
              "      <td>Cape Canaveral</td>\n",
              "      <td>Orbcomm-OG2</td>\n",
              "      <td>1,316 kg</td>\n",
              "      <td>LEO</td>\n",
              "      <td>Orbcomm</td>\n",
              "      <td>Success</td>\n",
              "      <td>F9 v1.1</td>\n",
              "      <td>Controlled</td>\n",
              "      <td>14 July 2014</td>\n",
              "      <td>15:15</td>\n",
              "    </tr>\n",
              "  </tbody>\n",
              "</table>\n",
              "</div>"
            ],
            "text/plain": [
              "   Flight No.     Launch site                               Payload  \\\n",
              "0           1           CCAFS  Dragon Spacecraft Qualification Unit   \n",
              "1           2           CCAFS                                Dragon   \n",
              "2           3           CCAFS                                Dragon   \n",
              "3           4           CCAFS                          SpaceX CRS-1   \n",
              "4           5           CCAFS                          SpaceX CRS-2   \n",
              "5           6            VAFB                              CASSIOPE   \n",
              "6           7           CCAFS                                 SES-8   \n",
              "7           8           CCAFS                             Thaicom 6   \n",
              "8           9  Cape Canaveral                          SpaceX CRS-3   \n",
              "9          10  Cape Canaveral                           Orbcomm-OG2   \n",
              "\n",
              "  Payload mass        Orbit Customer Launch outcome Version Booster  \\\n",
              "0            0          LEO   SpaceX      Success\\n  F9 v1.0B0003.1   \n",
              "1            0          LEO     NASA        Success  F9 v1.0B0004.1   \n",
              "2       525 kg          LEO     NASA        Success  F9 v1.0B0005.1   \n",
              "3     4,700 kg          LEO     NASA      Success\\n  F9 v1.0B0006.1   \n",
              "4     4,877 kg          LEO     NASA      Success\\n  F9 v1.0B0007.1   \n",
              "5       500 kg  Polar orbit      MDA        Success    F9 v1.1B1003   \n",
              "6     3,170 kg          GTO      SES        Success         F9 v1.1   \n",
              "7     3,325 kg          GTO  Thaicom        Success         F9 v1.1   \n",
              "8     2,296 kg          LEO     NASA      Success\\n         F9 v1.1   \n",
              "9     1,316 kg          LEO  Orbcomm        Success         F9 v1.1   \n",
              "\n",
              "  Booster landing               Date   Time  \n",
              "0         Failure        4 June 2010  18:45  \n",
              "1         Failure    8 December 2010  15:43  \n",
              "2    No attempt\\n        22 May 2012  07:44  \n",
              "3      No attempt     8 October 2012  00:35  \n",
              "4    No attempt\\n       1 March 2013  15:10  \n",
              "5    Uncontrolled  29 September 2013  16:00  \n",
              "6      No attempt    3 December 2013  22:41  \n",
              "7      No attempt     6 January 2014  22:06  \n",
              "8      Controlled      18 April 2014  19:25  \n",
              "9      Controlled       14 July 2014  15:15  "
            ]
          },
          "execution_count": 5,
          "metadata": {},
          "output_type": "execute_result"
        }
      ],
      "source": [
        "route = \"launch_data.csv\"\n",
        "df=pd.read_csv(route)\n",
        "df.head(10)"
      ]
    },
    {
      "attachments": {},
      "cell_type": "markdown",
      "metadata": {
        "id": "d8f19ff8-8da4-4b9f-97bd-acd79246c60d"
      },
      "source": [
        "Identify and calculate the percentage of the missing values in each attribute\n"
      ]
    },
    {
      "cell_type": "code",
      "execution_count": 6,
      "metadata": {
        "colab": {
          "base_uri": "https://localhost:8080/"
        },
        "id": "6da7f9df-8e8a-473d-91e2-9b0714866c10",
        "outputId": "f742218d-f397-403e-d7f6-15d77f1d0b29"
      },
      "outputs": [
        {
          "data": {
            "text/plain": [
              "Flight No.         0.000000\n",
              "Launch site        0.000000\n",
              "Payload            0.000000\n",
              "Payload mass       0.000000\n",
              "Orbit              0.000000\n",
              "Customer           1.680672\n",
              "Launch outcome     0.000000\n",
              "Version Booster    0.000000\n",
              "Booster landing    0.000000\n",
              "Date               0.000000\n",
              "Time               0.000000\n",
              "dtype: float64"
            ]
          },
          "execution_count": 6,
          "metadata": {},
          "output_type": "execute_result"
        }
      ],
      "source": [
        "df.isnull().sum()/df.count()*100"
      ]
    },
    {
      "attachments": {},
      "cell_type": "markdown",
      "metadata": {
        "id": "1f6c33fe-81ab-47cb-8c38-ec0f9354d2b1"
      },
      "source": [
        "Identify which columns are numerical and categorical:\n"
      ]
    },
    {
      "cell_type": "code",
      "execution_count": 7,
      "metadata": {
        "colab": {
          "base_uri": "https://localhost:8080/"
        },
        "id": "64f8a1fc-ddf5-40fd-98ee-e3670f798f88",
        "outputId": "ca7e8e8d-f6c4-44e3-e3fc-9b0d874acc35"
      },
      "outputs": [
        {
          "data": {
            "text/plain": [
              "Flight No.          int64\n",
              "Launch site        object\n",
              "Payload            object\n",
              "Payload mass       object\n",
              "Orbit              object\n",
              "Customer           object\n",
              "Launch outcome     object\n",
              "Version Booster    object\n",
              "Booster landing    object\n",
              "Date               object\n",
              "Time               object\n",
              "dtype: object"
            ]
          },
          "execution_count": 7,
          "metadata": {},
          "output_type": "execute_result"
        }
      ],
      "source": [
        "df.dtypes"
      ]
    },
    {
      "attachments": {},
      "cell_type": "markdown",
      "metadata": {
        "id": "a552816b-5b2e-4cd4-ba2e-f28ffe487a39"
      },
      "source": [
        "### TASK 1: Calculate the number of launches on each site\n",
        "\n",
        "The data contains several Space X  launch facilities: <a href='https://en.wikipedia.org/wiki/List_of_Cape_Canaveral_and_Merritt_Island_launch_sites?utm_medium=Exinfluencer&utm_source=Exinfluencer&utm_content=000026UJ&utm_term=10006555&utm_id=NA-SkillsNetwork-Channel-SkillsNetworkCoursesIBMDS0321ENSkillsNetwork865-2023-01-01'>Cape Canaveral Space</a> Launch Complex 40  <b>VAFB SLC 4E </b> , Vandenberg Air Force Base Space Launch Complex 4E <b>(SLC-4E)</b>, Kennedy Space Center Launch Complex 39A <b>KSC LC 39A </b>.The location of each Launch Is placed in the column <code>LaunchSite</code>\n"
      ]
    },
    {
      "attachments": {},
      "cell_type": "markdown",
      "metadata": {
        "id": "a4ea5d83-234d-4aa2-a226-60a196558c52"
      },
      "source": [
        "Next, let's see the number of launches for each site.\n",
        "\n",
        "Use the method  <code>value_counts()</code> on the column <code>LaunchSite</code> to determine the number of launches  on each site: \n"
      ]
    },
    {
      "cell_type": "code",
      "execution_count": 8,
      "metadata": {
        "colab": {
          "base_uri": "https://localhost:8080/"
        },
        "id": "ae8164e3-b9c6-4843-b2de-315509c2727d",
        "outputId": "dde57605-3c6b-4b81-cab9-e1aa7fabe528"
      },
      "outputs": [
        {
          "name": "stdout",
          "output_type": "stream",
          "text": [
            "CCAFS             40\n",
            "KSC               33\n",
            "Cape Canaveral    20\n",
            "VAFB              16\n",
            "CCSFS             12\n",
            "Name: Launch site, dtype: int64\n"
          ]
        }
      ],
      "source": [
        "launch_counts = df['Launch site'].value_counts()\n",
        "print(launch_counts)\n"
      ]
    },
    {
      "attachments": {},
      "cell_type": "markdown",
      "metadata": {
        "id": "d10e5563-b992-4c43-92fb-1265adcc94a8"
      },
      "source": [
        "Each launch aims to an dedicated orbit, and here are some common orbit types:\n"
      ]
    },
    {
      "attachments": {},
      "cell_type": "markdown",
      "metadata": {
        "id": "162045d5-423a-4911-9ac1-3877ade11446"
      },
      "source": [
        "\n",
        "\n",
        "* <b>LEO</b>: Low Earth orbit (LEO)is an Earth-centred orbit with an altitude of 2,000 km (1,200 mi) or less (approximately one-third of the radius of Earth),[1] or with at least 11.25 periods per day (an orbital period of 128 minutes or less) and an eccentricity less than 0.25.[2] Most of the manmade objects in outer space are in LEO <a href='https://en.wikipedia.org/wiki/Low_Earth_orbit?utm_medium=Exinfluencer&utm_source=Exinfluencer&utm_content=000026UJ&utm_term=10006555&utm_id=NA-SkillsNetwork-Channel-SkillsNetworkCoursesIBMDS0321ENSkillsNetwork865-2023-01-01'>[1]</a>.\n",
        "\n",
        "* <b>VLEO</b>: Very Low Earth Orbits (VLEO) can be defined as the orbits with a mean altitude below 450 km. Operating in these orbits can provide a number of benefits to Earth observation spacecraft as the spacecraft operates closer to the observation<a href='https://www.researchgate.net/publication/271499606_Very_Low_Earth_Orbit_mission_concepts_for_Earth_Observation_Benefits_and_challenges?utm_medium=Exinfluencer&utm_source=Exinfluencer&utm_content=000026UJ&utm_term=10006555&utm_id=NA-SkillsNetwork-Channel-SkillsNetworkCoursesIBMDS0321ENSkillsNetwork865-2023-01-01'>[2]</a>.\n",
        "\n",
        "\n",
        "* <b>GTO</b> A geosynchronous orbit is a high Earth orbit that allows satellites to match Earth's rotation. Located at 22,236 miles (35,786 kilometers) above Earth's equator, this position is a valuable spot for monitoring weather, communications and surveillance. Because the satellite orbits at the same speed that the Earth is turning, the satellite seems to stay in place over a single longitude, though it may drift north to south,” NASA wrote on its Earth Observatory website <a  href=\"https://www.space.com/29222-geosynchronous-orbit.html?utm_medium=Exinfluencer&utm_source=Exinfluencer&utm_content=000026UJ&utm_term=10006555&utm_id=NA-SkillsNetwork-Channel-SkillsNetworkCoursesIBMDS0321ENSkillsNetwork865-2023-01-01\" >[3] </a>.\n",
        "\n",
        "\n",
        "* <b>SSO (or SO)</b>: It is a Sun-synchronous orbit  also called a heliosynchronous orbit is a nearly polar orbit around a planet, in which the satellite passes over any given point of the planet's surface at the same local mean solar time <a href=\"https://en.wikipedia.org/wiki/Sun-synchronous_orbit?utm_medium=Exinfluencer&utm_source=Exinfluencer&utm_content=000026UJ&utm_term=10006555&utm_id=NA-SkillsNetwork-Channel-SkillsNetworkCoursesIBMDS0321ENSkillsNetwork865-2023-01-01\">[4] <a>.\n",
        "    \n",
        "    \n",
        "    \n",
        "* <b>ES-L1 </b>:At the Lagrange points the gravitational forces of the two large bodies cancel out in such a way that a small object placed in orbit there is in equilibrium relative to the center of mass of the large bodies. L1 is one such point between the sun and the earth <a href=\"https://en.wikipedia.org/wiki/Lagrange_point?utm_medium=Exinfluencer&utm_source=Exinfluencer&utm_content=000026UJ&utm_term=10006555&utm_id=NA-SkillsNetwork-Channel-SkillsNetworkCoursesIBMDS0321ENSkillsNetwork865-2023-01-01#L1_point\">[5]</a> .\n",
        "    \n",
        "    \n",
        "* <b>HEO</b> A highly elliptical orbit, is an elliptic orbit with high eccentricity, usually referring to one around Earth <a href=\"https://en.wikipedia.org/wiki/Highly_elliptical_orbit?utm_medium=Exinfluencer&utm_source=Exinfluencer&utm_content=000026UJ&utm_term=10006555&utm_id=NA-SkillsNetwork-Channel-SkillsNetworkCoursesIBMDS0321ENSkillsNetwork865-2023-01-01\">[6]</a>.\n",
        "\n",
        "\n",
        "* <b> ISS </b> A modular space station (habitable artificial satellite) in low Earth orbit. It is a multinational collaborative project between five participating space agencies: NASA (United States), Roscosmos (Russia), JAXA (Japan), ESA (Europe), and CSA (Canada)<a href=\"https://en.wikipedia.org/wiki/International_Space_Station?utm_medium=Exinfluencer&utm_source=Exinfluencer&utm_content=000026UJ&utm_term=10006555&utm_id=NA-SkillsNetwork-Channel-SkillsNetworkCoursesIBMDS0321ENSkillsNetwork865-2023-01-01\"> [7] </a>\n",
        "\n",
        "\n",
        "* <b> MEO </b> Geocentric orbits ranging in altitude from 2,000 km (1,200 mi) to just below geosynchronous orbit at 35,786 kilometers (22,236 mi). Also known as an intermediate circular orbit. These are \"most commonly at 20,200 kilometers (12,600 mi), or 20,650 kilometers (12,830 mi), with an orbital period of 12 hours <a href=\"https://en.wikipedia.org/wiki/List_of_orbits?utm_medium=Exinfluencer&utm_source=Exinfluencer&utm_content=000026UJ&utm_term=10006555&utm_id=NA-SkillsNetwork-Channel-SkillsNetworkCoursesIBMDS0321ENSkillsNetwork865-2023-01-01\"> [8] </a>\n",
        "\n",
        "\n",
        "* <b> HEO </b> Geocentric orbits above the altitude of geosynchronous orbit (35,786 km or 22,236 mi) <a href=\"https://en.wikipedia.org/wiki/List_of_orbits?utm_medium=Exinfluencer&utm_source=Exinfluencer&utm_content=000026UJ&utm_term=10006555&utm_id=NA-SkillsNetwork-Channel-SkillsNetworkCoursesIBMDS0321ENSkillsNetwork865-2023-01-01\"> [9] </a>\n",
        "\n",
        "\n",
        "* <b> GEO </b> It is a circular geosynchronous orbit 35,786 kilometres (22,236 miles) above Earth's equator and following the direction of Earth's rotation <a href=\"https://en.wikipedia.org/wiki/Geostationary_orbit?utm_medium=Exinfluencer&utm_source=Exinfluencer&utm_content=000026UJ&utm_term=10006555&utm_id=NA-SkillsNetwork-Channel-SkillsNetworkCoursesIBMDS0321ENSkillsNetwork865-2023-01-01\"> [10] </a>\n",
        "\n",
        "\n",
        "* <b> PO </b> It is one type of satellites in which a satellite passes above or nearly above both poles of the body being orbited (usually a planet such as the Earth <a href=\"https://en.wikipedia.org/wiki/Polar_orbit?utm_medium=Exinfluencer&utm_source=Exinfluencer&utm_content=000026UJ&utm_term=10006555&utm_id=NA-SkillsNetwork-Channel-SkillsNetworkCoursesIBMDS0321ENSkillsNetwork865-2023-01-01\"> [11] </a>\n",
        "\n",
        "some are shown in the following plot:\n"
      ]
    },
    {
      "attachments": {},
      "cell_type": "markdown",
      "metadata": {
        "id": "121c8eed-ccc9-4e16-92e7-6d79908e402d"
      },
      "source": [
        "![](https://cf-courses-data.s3.us.cloud-object-storage.appdomain.cloud/IBMDeveloperSkillsNetwork-DS0701EN-SkillsNetwork/api/Images/Orbits.png)\n"
      ]
    },
    {
      "attachments": {},
      "cell_type": "markdown",
      "metadata": {
        "id": "13e3d5ab-540e-4833-939d-3ca40e6926a9"
      },
      "source": [
        "### TASK 2: Calculate the number and occurrence of each orbit\n"
      ]
    },
    {
      "attachments": {},
      "cell_type": "markdown",
      "metadata": {
        "id": "a27b737e-a9c1-47ee-babd-65d8e2ffa54b"
      },
      "source": [
        " Use the method  <code>.value_counts()</code> to determine the number and occurrence of each orbit in the  column <code>Orbit</code>\n"
      ]
    },
    {
      "cell_type": "code",
      "execution_count": 9,
      "metadata": {
        "colab": {
          "base_uri": "https://localhost:8080/"
        },
        "id": "261211ec-5128-41fd-9f1e-4f98bb1ab4fc",
        "outputId": "a7e1695a-a954-49c9-b1ee-0e87f28d0c18"
      },
      "outputs": [
        {
          "name": "stdout",
          "output_type": "stream",
          "text": [
            "LEO            67\n",
            "GTO            33\n",
            "Polar           7\n",
            "SSO             7\n",
            "MEO             3\n",
            "HEO             2\n",
            "Polar orbit     1\n",
            "Sub-orbital     1\n",
            "Name: Orbit, dtype: int64\n"
          ]
        }
      ],
      "source": [
        "orbit_counts = df['Orbit'].value_counts()\n",
        "print(orbit_counts)"
      ]
    },
    {
      "attachments": {},
      "cell_type": "markdown",
      "metadata": {
        "id": "7135907d-6d03-4331-aa35-bc3f3d600c4e"
      },
      "source": [
        "### TASK 3: Calculate the number and occurence of mission outcome of the orbits\n"
      ]
    },
    {
      "attachments": {},
      "cell_type": "markdown",
      "metadata": {
        "id": "0031f17e-aacf-4e2c-8a19-46a1e5b54b56"
      },
      "source": [
        "Use the method <code>.value_counts()</code> on the column <code>Outcome</code> to determine the number of <code>landing_outcomes</code>.Then assign it to a variable landing_outcomes.\n"
      ]
    },
    {
      "cell_type": "code",
      "execution_count": 10,
      "metadata": {
        "id": "0f846a05-73d9-4dd4-889d-0b6a764c71d5"
      },
      "outputs": [],
      "source": [
        "# Apply value_counts on 'Launch outcome' column\n",
        "landing_outcomes = df['Launch outcome'].value_counts()"
      ]
    },
    {
      "attachments": {},
      "cell_type": "markdown",
      "metadata": {
        "id": "41cc3436-e4f6-4747-ab73-0817ce9e30f1"
      },
      "source": [
        "<code>True Ocean</code> means the mission outcome was successfully  landed to a specific region of the ocean while <code>False Ocean</code> means the mission outcome was unsuccessfully landed to a specific region of the ocean. <code>True RTLS</code> means the mission outcome was successfully  landed to a ground pad <code>False RTLS</code> means the mission outcome was unsuccessfully landed to a ground pad.<code>True ASDS</code> means the mission outcome was successfully  landed to a drone ship <code>False ASDS</code> means the mission outcome was unsuccessfully landed to a drone ship. <code>None ASDS</code> and <code>None None</code> these represent a failure to land.\n"
      ]
    },
    {
      "cell_type": "code",
      "execution_count": 11,
      "metadata": {
        "colab": {
          "base_uri": "https://localhost:8080/"
        },
        "id": "37b921b7-4e63-4748-86b5-f3284e0c372e",
        "outputId": "5b3c1f50-4649-4b4d-a4ce-14ed42562519"
      },
      "outputs": [
        {
          "name": "stdout",
          "output_type": "stream",
          "text": [
            "0 Success\n",
            "\n",
            "1 Success\n",
            "2 Failure\n"
          ]
        }
      ],
      "source": [
        "# Print each landing outcome and its count\n",
        "for i, outcome in enumerate(landing_outcomes.keys()):\n",
        "    print(i, outcome)"
      ]
    },
    {
      "attachments": {},
      "cell_type": "markdown",
      "metadata": {
        "id": "26b1cd0e-a8b7-472e-9b9a-549a0bb21444"
      },
      "source": [
        "We create a set of outcomes where the second stage did not land successfully:\n"
      ]
    },
    {
      "cell_type": "code",
      "execution_count": 12,
      "metadata": {
        "id": "f0bd6891-9b3e-4e76-94d9-a100730252dc"
      },
      "outputs": [],
      "source": [
        "# Define the set of bad outcomes\n",
        "bad_outcomes = set([landing_outcomes.keys()[2]]) # Failure is the third element (index 2)"
      ]
    },
    {
      "attachments": {},
      "cell_type": "markdown",
      "metadata": {
        "id": "d3916853-08bc-4f30-9bf1-792c1ac0b14c"
      },
      "source": [
        "### TASK 4: Create a landing outcome label from Outcome column\n"
      ]
    },
    {
      "attachments": {},
      "cell_type": "markdown",
      "metadata": {
        "id": "b8d99e84-5229-431d-9b78-2d7307692834"
      },
      "source": [
        "Using the <code>Outcome</code>,  create a list where the element is zero if the corresponding  row  in  <code>Outcome</code> is in the set <code>bad_outcome</code>; otherwise, it's one. Then assign it to the variable <code>landing_class</code>:\n"
      ]
    },
    {
      "cell_type": "code",
      "execution_count": 13,
      "metadata": {
        "id": "7e1baf52-506e-4d2c-ab78-226cd0c46be6"
      },
      "outputs": [],
      "source": [
        "# create landing_class list\n",
        "landing_class = [0 if outcome in bad_outcomes else 1 for outcome in df['Launch outcome']]\n",
        "\n",
        "# add landing_class to dataframe\n",
        "df['Class'] = landing_class"
      ]
    },
    {
      "attachments": {},
      "cell_type": "markdown",
      "metadata": {
        "id": "3bb7a355-350c-4bf0-b41c-0b814d29bcf3"
      },
      "source": [
        "This variable will represent the classification variable that represents the outcome of each launch. If the value is zero, the  first stage did not land successfully; one means  the first stage landed Successfully \n"
      ]
    },
    {
      "cell_type": "code",
      "execution_count": 14,
      "metadata": {
        "colab": {
          "base_uri": "https://localhost:8080/"
        },
        "id": "84bcde47-5389-46a3-8e08-bbe64ddca19f",
        "outputId": "89cb68b1-21bb-4e01-f7a2-be65baee4d34"
      },
      "outputs": [
        {
          "name": "stdout",
          "output_type": "stream",
          "text": [
            "0    1\n",
            "1    1\n",
            "2    1\n",
            "3    1\n",
            "4    1\n",
            "5    1\n",
            "6    1\n",
            "7    1\n",
            "Name: Class, dtype: int64\n"
          ]
        }
      ],
      "source": [
        "print(df['Class'].head(8))"
      ]
    },
    {
      "cell_type": "code",
      "execution_count": 15,
      "metadata": {
        "colab": {
          "base_uri": "https://localhost:8080/",
          "height": 319
        },
        "id": "fd973f32-4dfe-4628-b0de-0926e3ad53b4",
        "outputId": "6490c7ae-43d0-4b37-9079-8a1bcc678d84"
      },
      "outputs": [
        {
          "data": {
            "text/html": [
              "<div>\n",
              "<style scoped>\n",
              "    .dataframe tbody tr th:only-of-type {\n",
              "        vertical-align: middle;\n",
              "    }\n",
              "\n",
              "    .dataframe tbody tr th {\n",
              "        vertical-align: top;\n",
              "    }\n",
              "\n",
              "    .dataframe thead th {\n",
              "        text-align: right;\n",
              "    }\n",
              "</style>\n",
              "<table border=\"1\" class=\"dataframe\">\n",
              "  <thead>\n",
              "    <tr style=\"text-align: right;\">\n",
              "      <th></th>\n",
              "      <th>Flight No.</th>\n",
              "      <th>Launch site</th>\n",
              "      <th>Payload</th>\n",
              "      <th>Payload mass</th>\n",
              "      <th>Orbit</th>\n",
              "      <th>Customer</th>\n",
              "      <th>Launch outcome</th>\n",
              "      <th>Version Booster</th>\n",
              "      <th>Booster landing</th>\n",
              "      <th>Date</th>\n",
              "      <th>Time</th>\n",
              "      <th>Class</th>\n",
              "    </tr>\n",
              "  </thead>\n",
              "  <tbody>\n",
              "    <tr>\n",
              "      <th>0</th>\n",
              "      <td>1</td>\n",
              "      <td>CCAFS</td>\n",
              "      <td>Dragon Spacecraft Qualification Unit</td>\n",
              "      <td>0</td>\n",
              "      <td>LEO</td>\n",
              "      <td>SpaceX</td>\n",
              "      <td>Success\\n</td>\n",
              "      <td>F9 v1.0B0003.1</td>\n",
              "      <td>Failure</td>\n",
              "      <td>4 June 2010</td>\n",
              "      <td>18:45</td>\n",
              "      <td>1</td>\n",
              "    </tr>\n",
              "    <tr>\n",
              "      <th>1</th>\n",
              "      <td>2</td>\n",
              "      <td>CCAFS</td>\n",
              "      <td>Dragon</td>\n",
              "      <td>0</td>\n",
              "      <td>LEO</td>\n",
              "      <td>NASA</td>\n",
              "      <td>Success</td>\n",
              "      <td>F9 v1.0B0004.1</td>\n",
              "      <td>Failure</td>\n",
              "      <td>8 December 2010</td>\n",
              "      <td>15:43</td>\n",
              "      <td>1</td>\n",
              "    </tr>\n",
              "    <tr>\n",
              "      <th>2</th>\n",
              "      <td>3</td>\n",
              "      <td>CCAFS</td>\n",
              "      <td>Dragon</td>\n",
              "      <td>525 kg</td>\n",
              "      <td>LEO</td>\n",
              "      <td>NASA</td>\n",
              "      <td>Success</td>\n",
              "      <td>F9 v1.0B0005.1</td>\n",
              "      <td>No attempt\\n</td>\n",
              "      <td>22 May 2012</td>\n",
              "      <td>07:44</td>\n",
              "      <td>1</td>\n",
              "    </tr>\n",
              "    <tr>\n",
              "      <th>3</th>\n",
              "      <td>4</td>\n",
              "      <td>CCAFS</td>\n",
              "      <td>SpaceX CRS-1</td>\n",
              "      <td>4,700 kg</td>\n",
              "      <td>LEO</td>\n",
              "      <td>NASA</td>\n",
              "      <td>Success\\n</td>\n",
              "      <td>F9 v1.0B0006.1</td>\n",
              "      <td>No attempt</td>\n",
              "      <td>8 October 2012</td>\n",
              "      <td>00:35</td>\n",
              "      <td>1</td>\n",
              "    </tr>\n",
              "    <tr>\n",
              "      <th>4</th>\n",
              "      <td>5</td>\n",
              "      <td>CCAFS</td>\n",
              "      <td>SpaceX CRS-2</td>\n",
              "      <td>4,877 kg</td>\n",
              "      <td>LEO</td>\n",
              "      <td>NASA</td>\n",
              "      <td>Success\\n</td>\n",
              "      <td>F9 v1.0B0007.1</td>\n",
              "      <td>No attempt\\n</td>\n",
              "      <td>1 March 2013</td>\n",
              "      <td>15:10</td>\n",
              "      <td>1</td>\n",
              "    </tr>\n",
              "  </tbody>\n",
              "</table>\n",
              "</div>"
            ],
            "text/plain": [
              "   Flight No. Launch site                               Payload Payload mass  \\\n",
              "0           1       CCAFS  Dragon Spacecraft Qualification Unit            0   \n",
              "1           2       CCAFS                                Dragon            0   \n",
              "2           3       CCAFS                                Dragon       525 kg   \n",
              "3           4       CCAFS                          SpaceX CRS-1     4,700 kg   \n",
              "4           5       CCAFS                          SpaceX CRS-2     4,877 kg   \n",
              "\n",
              "  Orbit Customer Launch outcome Version Booster Booster landing  \\\n",
              "0   LEO   SpaceX      Success\\n  F9 v1.0B0003.1         Failure   \n",
              "1   LEO     NASA        Success  F9 v1.0B0004.1         Failure   \n",
              "2   LEO     NASA        Success  F9 v1.0B0005.1    No attempt\\n   \n",
              "3   LEO     NASA      Success\\n  F9 v1.0B0006.1      No attempt   \n",
              "4   LEO     NASA      Success\\n  F9 v1.0B0007.1    No attempt\\n   \n",
              "\n",
              "              Date   Time  Class  \n",
              "0      4 June 2010  18:45      1  \n",
              "1  8 December 2010  15:43      1  \n",
              "2      22 May 2012  07:44      1  \n",
              "3   8 October 2012  00:35      1  \n",
              "4     1 March 2013  15:10      1  "
            ]
          },
          "execution_count": 15,
          "metadata": {},
          "output_type": "execute_result"
        }
      ],
      "source": [
        "df.head(5)"
      ]
    },
    {
      "attachments": {},
      "cell_type": "markdown",
      "metadata": {
        "id": "1edee49e-423a-4ffe-bee4-25b9d824f664"
      },
      "source": [
        "We can use the following line of code to determine  the success rate:\n"
      ]
    },
    {
      "cell_type": "code",
      "execution_count": 16,
      "metadata": {
        "colab": {
          "base_uri": "https://localhost:8080/"
        },
        "id": "34192027-65fa-4341-92a2-f9ea4f7be9ec",
        "outputId": "d79f3aa2-b681-4488-cb73-15c7ad70c2b1"
      },
      "outputs": [
        {
          "name": "stdout",
          "output_type": "stream",
          "text": [
            "Success rate: 0.9917355371900827\n"
          ]
        }
      ],
      "source": [
        "success_rate = df[\"Class\"].mean()\n",
        "print('Success rate:', success_rate)"
      ]
    },
    {
      "cell_type": "code",
      "execution_count": 19,
      "metadata": {
        "id": "oLZ0eGBIZEIL"
      },
      "outputs": [],
      "source": [
        "df.to_csv('launch_data_with_class.csv', index=False)"
      ]
    }
  ],
  "metadata": {
    "colab": {
      "provenance": []
    },
    "kernelspec": {
      "display_name": "base",
      "language": "python",
      "name": "python3"
    },
    "language_info": {
      "codemirror_mode": {
        "name": "ipython",
        "version": 3
      },
      "file_extension": ".py",
      "mimetype": "text/x-python",
      "name": "python",
      "nbconvert_exporter": "python",
      "pygments_lexer": "ipython3",
      "version": "3.10.9"
    }
  },
  "nbformat": 4,
  "nbformat_minor": 0
}
