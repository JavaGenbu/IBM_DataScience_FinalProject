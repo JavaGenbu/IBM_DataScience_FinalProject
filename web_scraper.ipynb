{
  "cells": [
    {
      "attachments": {},
      "cell_type": "markdown",
      "metadata": {
        "id": "-lA8KmJJTucy"
      },
      "source": [
        "<p style=\"text-align:center\">\n",
        "    <a href=\"https://skills.network/?utm_medium=Exinfluencer&utm_source=Exinfluencer&utm_content=000026UJ&utm_term=10006555&utm_id=NA-SkillsNetwork-Channel-SkillsNetworkCoursesIBMDS0321ENSkillsNetwork865-2023-01-01\">\n",
        "    <img src=\"https://cf-courses-data.s3.us.cloud-object-storage.appdomain.cloud/assets/logos/SN_web_lightmode.png\" width=\"200\" alt=\"Skills Network Logo\"  />\n",
        "    </a>\n",
        "</p>\n"
      ]
    },
    {
      "attachments": {},
      "cell_type": "markdown",
      "metadata": {
        "id": "OXVPdKLqTucz"
      },
      "source": [
        "# **Space X  Falcon 9 First Stage Landing Prediction**\n"
      ]
    },
    {
      "attachments": {},
      "cell_type": "markdown",
      "metadata": {
        "id": "gMEFvi4NTucz"
      },
      "source": [
        "## Web scraping Falcon 9 and Falcon Heavy Launches Records from Wikipedia\n"
      ]
    },
    {
      "attachments": {},
      "cell_type": "markdown",
      "metadata": {
        "id": "VWRZnjJdTucz"
      },
      "source": [
        "Estimated time needed: **40** minutes\n"
      ]
    },
    {
      "attachments": {},
      "cell_type": "markdown",
      "metadata": {
        "id": "poqP-lnnTucz"
      },
      "source": [
        "In this lab, you will be performing web scraping to collect Falcon 9 historical launch records from a Wikipedia page titled `List of Falcon 9 and Falcon Heavy launches`\n",
        "\n",
        "https://en.wikipedia.org/wiki/List_of_Falcon_9_and_Falcon_Heavy_launches\n"
      ]
    },
    {
      "attachments": {},
      "cell_type": "markdown",
      "metadata": {
        "id": "QZR3DUbWTucz"
      },
      "source": [
        "![](https://cf-courses-data.s3.us.cloud-object-storage.appdomain.cloud/IBM-DS0321EN-SkillsNetwork/labs/module_1_L2/images/Falcon9_rocket_family.svg)\n"
      ]
    },
    {
      "attachments": {},
      "cell_type": "markdown",
      "metadata": {
        "id": "S1NcRiRITucz"
      },
      "source": [
        "Falcon 9 first stage will land successfully\n"
      ]
    },
    {
      "attachments": {},
      "cell_type": "markdown",
      "metadata": {
        "id": "35IsA1WYTuc0"
      },
      "source": [
        "![](https://cf-courses-data.s3.us.cloud-object-storage.appdomain.cloud/IBMDeveloperSkillsNetwork-DS0701EN-SkillsNetwork/api/Images/landing_1.gif)\n"
      ]
    },
    {
      "attachments": {},
      "cell_type": "markdown",
      "metadata": {
        "id": "X2zxkgapTuc0"
      },
      "source": [
        "Several examples of an unsuccessful landing are shown here:\n"
      ]
    },
    {
      "attachments": {},
      "cell_type": "markdown",
      "metadata": {
        "id": "t4JsD6FtTuc0"
      },
      "source": [
        "![](https://cf-courses-data.s3.us.cloud-object-storage.appdomain.cloud/IBMDeveloperSkillsNetwork-DS0701EN-SkillsNetwork/api/Images/crash.gif)\n"
      ]
    },
    {
      "attachments": {},
      "cell_type": "markdown",
      "metadata": {
        "id": "Z-UQA4d4Tuc0"
      },
      "source": [
        "More specifically, the launch records are stored in a HTML table shown below:\n"
      ]
    },
    {
      "attachments": {},
      "cell_type": "markdown",
      "metadata": {
        "id": "IsnYZcQ9Tuc0"
      },
      "source": [
        "![](https://cf-courses-data.s3.us.cloud-object-storage.appdomain.cloud/IBM-DS0321EN-SkillsNetwork/labs/module_1_L2/images/falcon9-launches-wiki.png)\n"
      ]
    },
    {
      "attachments": {},
      "cell_type": "markdown",
      "metadata": {
        "id": "yL0oUZRjTuc0"
      },
      "source": [
        "  ## Objectives\n",
        "Web scrap Falcon 9 launch records with `BeautifulSoup`: \n",
        "- Extract a Falcon 9 launch records HTML table from Wikipedia\n",
        "- Parse the table and convert it into a Pandas data frame\n"
      ]
    },
    {
      "attachments": {},
      "cell_type": "markdown",
      "metadata": {
        "id": "FYUD64S9Tuc0"
      },
      "source": [
        "First let's import required packages for this lab\n"
      ]
    },
    {
      "cell_type": "code",
      "execution_count": 1,
      "metadata": {
        "colab": {
          "base_uri": "https://localhost:8080/"
        },
        "id": "xee7OhNRTuc0",
        "outputId": "e8283137-1938-44e9-c1fd-3e9cbfcb6d88"
      },
      "outputs": [
        {
          "name": "stdout",
          "output_type": "stream",
          "text": [
            "Requirement already satisfied: beautifulsoup4 in c:\\users\\java\\anaconda3\\lib\\site-packages (4.11.1)\n",
            "Requirement already satisfied: soupsieve>1.2 in c:\\users\\java\\anaconda3\\lib\\site-packages (from beautifulsoup4) (2.3.2.post1)\n",
            "Requirement already satisfied: requests in c:\\users\\java\\anaconda3\\lib\\site-packages (2.28.1)\n",
            "Requirement already satisfied: idna<4,>=2.5 in c:\\users\\java\\anaconda3\\lib\\site-packages (from requests) (3.4)\n",
            "Requirement already satisfied: urllib3<1.27,>=1.21.1 in c:\\users\\java\\anaconda3\\lib\\site-packages (from requests) (1.26.14)\n",
            "Requirement already satisfied: certifi>=2017.4.17 in c:\\users\\java\\anaconda3\\lib\\site-packages (from requests) (2022.12.7)\n",
            "Requirement already satisfied: charset-normalizer<3,>=2 in c:\\users\\java\\anaconda3\\lib\\site-packages (from requests) (2.0.4)\n"
          ]
        }
      ],
      "source": [
        "!pip3 install beautifulsoup4\n",
        "!pip3 install requests"
      ]
    },
    {
      "cell_type": "code",
      "execution_count": 2,
      "metadata": {
        "id": "pHLz0v8sTuc1"
      },
      "outputs": [],
      "source": [
        "import sys\n",
        "\n",
        "import requests\n",
        "from bs4 import BeautifulSoup\n",
        "import re\n",
        "import unicodedata\n",
        "import pandas as pd"
      ]
    },
    {
      "attachments": {},
      "cell_type": "markdown",
      "metadata": {
        "id": "2VW5kBy5Tuc1"
      },
      "source": [
        "and we will provide some helper functions for you to process web scraped HTML table\n"
      ]
    },
    {
      "cell_type": "code",
      "execution_count": 3,
      "metadata": {
        "id": "Ygz6_JviTuc1"
      },
      "outputs": [],
      "source": [
        "def date_time(table_cells):\n",
        "    \"\"\"\n",
        "    This function returns the data and time from the HTML  table cell\n",
        "    Input: the  element of a table data cell extracts extra row\n",
        "    \"\"\"\n",
        "    return [data_time.strip() for data_time in list(table_cells.strings)][0:2]\n",
        "\n",
        "def booster_version(table_cells):\n",
        "    \"\"\"\n",
        "    This function returns the booster version from the HTML  table cell \n",
        "    Input: the  element of a table data cell extracts extra row\n",
        "    \"\"\"\n",
        "    out=''.join([booster_version for i,booster_version in enumerate( table_cells.strings) if i%2==0][0:-1])\n",
        "    return out\n",
        "\n",
        "def landing_status(table_cells):\n",
        "    \"\"\"\n",
        "    This function returns the landing status from the HTML table cell \n",
        "    Input: the  element of a table data cell extracts extra row\n",
        "    \"\"\"\n",
        "    out=[i for i in table_cells.strings][0]\n",
        "    return out\n",
        "\n",
        "\n",
        "def get_mass(table_cells):\n",
        "    mass=unicodedata.normalize(\"NFKD\", table_cells.text).strip()\n",
        "    if mass:\n",
        "        mass.find(\"kg\")\n",
        "        new_mass=mass[0:mass.find(\"kg\")+2]\n",
        "    else:\n",
        "        new_mass=0\n",
        "    return new_mass\n",
        "\n",
        "\n",
        "def extract_column_from_header(row):\n",
        "    \"\"\"\n",
        "    This function returns the landing status from the HTML table cell \n",
        "    Input: the  element of a table data cell extracts extra row\n",
        "    \"\"\"\n",
        "    if (row.br):\n",
        "        row.br.extract()\n",
        "    if row.a:\n",
        "        row.a.extract()\n",
        "    if row.sup:\n",
        "        row.sup.extract()\n",
        "        \n",
        "    colunm_name = ' '.join(row.contents)\n",
        "    \n",
        "    # Filter the digit and empty names\n",
        "    if not(colunm_name.strip().isdigit()):\n",
        "        colunm_name = colunm_name.strip()\n",
        "        return colunm_name    \n"
      ]
    },
    {
      "attachments": {},
      "cell_type": "markdown",
      "metadata": {
        "id": "romhu5NnTuc1"
      },
      "source": [
        "To keep the lab tasks consistent, you will be asked to scrape the data from a snapshot of the  `List of Falcon 9 and Falcon Heavy launches` Wikipage updated on\n",
        "`9th June 2021`\n"
      ]
    },
    {
      "cell_type": "code",
      "execution_count": 4,
      "metadata": {
        "id": "wWLBU211Tuc1"
      },
      "outputs": [],
      "source": [
        "static_url = \"https://en.wikipedia.org/w/index.php?title=List_of_Falcon_9_and_Falcon_Heavy_launches&oldid=1027686922\""
      ]
    },
    {
      "attachments": {},
      "cell_type": "markdown",
      "metadata": {
        "id": "9nPNzFA0Tuc1"
      },
      "source": [
        "Next, request the HTML page from the above URL and get a `response` object\n"
      ]
    },
    {
      "attachments": {},
      "cell_type": "markdown",
      "metadata": {
        "id": "KTsJDh-xTuc1"
      },
      "source": [
        "### TASK 1: Request the Falcon9 Launch Wiki page from its URL\n"
      ]
    },
    {
      "attachments": {},
      "cell_type": "markdown",
      "metadata": {
        "id": "3g7oM2fmTuc2"
      },
      "source": [
        "First, let's perform an HTTP GET method to request the Falcon9 Launch HTML page, as an HTTP response.\n"
      ]
    },
    {
      "cell_type": "code",
      "execution_count": 5,
      "metadata": {
        "id": "u9aOIYhnTuc2"
      },
      "outputs": [],
      "source": [
        "# Make a request to the website\n",
        "r = requests.get(static_url)\n",
        "# Use the 'content' property to get the HTML of the page\n",
        "webpage = r.content"
      ]
    },
    {
      "attachments": {},
      "cell_type": "markdown",
      "metadata": {
        "id": "jrW5oXv3Tuc2"
      },
      "source": [
        "Create a `BeautifulSoup` object from the HTML `response`\n"
      ]
    },
    {
      "cell_type": "code",
      "execution_count": 6,
      "metadata": {
        "id": "mNyCENvyTuc2"
      },
      "outputs": [],
      "source": [
        "# Create a Beautiful Soup object and specify the parser\n",
        "soup = BeautifulSoup(webpage, \"html.parser\")\n",
        "\n",
        "# Find the table with the Falcon 9 launch data\n",
        "table = soup.find_all('table', {'class': 'wikitable plainrowheaders collapsible'})[0]"
      ]
    },
    {
      "attachments": {},
      "cell_type": "markdown",
      "metadata": {
        "id": "CN9Z6mTtTuc2"
      },
      "source": [
        "Print the page title to verify if the `BeautifulSoup` object was created properly \n"
      ]
    },
    {
      "cell_type": "code",
      "execution_count": 7,
      "metadata": {
        "colab": {
          "base_uri": "https://localhost:8080/"
        },
        "id": "suUXIshRTuc2",
        "outputId": "51cfc279-e8ae-4b32-8430-c22d2bcf6cba"
      },
      "outputs": [
        {
          "name": "stdout",
          "output_type": "stream",
          "text": [
            "List of Falcon 9 and Falcon Heavy launches - Wikipedia\n"
          ]
        }
      ],
      "source": [
        "# Get the title of the webpage\n",
        "title = soup.title.string\n",
        "\n",
        "# Print the title\n",
        "print(title)"
      ]
    },
    {
      "attachments": {},
      "cell_type": "markdown",
      "metadata": {
        "id": "or3w_Gj3Tuc2"
      },
      "source": [
        "### TASK 2: Extract all column/variable names from the HTML table header\n"
      ]
    },
    {
      "attachments": {},
      "cell_type": "markdown",
      "metadata": {
        "id": "h3YyVb7_Tuc2"
      },
      "source": [
        "Next, we want to collect all relevant column names from the HTML table header\n"
      ]
    },
    {
      "attachments": {},
      "cell_type": "markdown",
      "metadata": {
        "id": "bP-zBqvVTuc2"
      },
      "source": [
        "Let's try to find all tables on the wiki page first. If you need to refresh your memory about `BeautifulSoup`, please check the external reference link towards the end of this lab\n"
      ]
    },
    {
      "cell_type": "code",
      "execution_count": 8,
      "metadata": {
        "colab": {
          "base_uri": "https://localhost:8080/"
        },
        "id": "HoSVls2ZTuc2",
        "outputId": "7517c0cb-26e7-4075-8866-a6849cc17e76"
      },
      "outputs": [
        {
          "name": "stdout",
          "output_type": "stream",
          "text": [
            "Flight No.\n",
            "Date andtime (UTC)\n",
            "Version,Booster[b]\n",
            "Launch site\n",
            "Payload[c]\n",
            "Payload mass\n",
            "Orbit\n",
            "Customer\n",
            "Launchoutcome\n",
            "Boosterlanding\n",
            "1\n",
            "2\n",
            "3\n",
            "4\n",
            "5\n",
            "6\n",
            "7\n"
          ]
        }
      ],
      "source": [
        "# Use the find_all function in the BeautifulSoup object, with element type `table`\n",
        "# Assign the result to a list called `html_tables`\n",
        "\n",
        "# Find all 'th' tags within the table, these contain the column names\n",
        "table_header = table.find_all('th')\n",
        "\n",
        "# Extract the text from the 'th' tags to get a list of column names\n",
        "column_names = [col.get_text(strip=True) for col in table_header]\n",
        "\n",
        "# Print the column names\n",
        "for column in column_names:\n",
        "    print(column)\n"
      ]
    },
    {
      "attachments": {},
      "cell_type": "markdown",
      "metadata": {
        "id": "qPceMXeWTuc2"
      },
      "source": [
        "Starting from the third table is our target table contains the actual launch records.\n"
      ]
    },
    {
      "cell_type": "code",
      "execution_count": 9,
      "metadata": {
        "colab": {
          "base_uri": "https://localhost:8080/"
        },
        "id": "Ry0dGdiATuc3",
        "outputId": "ec1c75b8-3415-4e0b-eff6-e4456346d34f"
      },
      "outputs": [
        {
          "name": "stdout",
          "output_type": "stream",
          "text": [
            "<table class=\"wikitable plainrowheaders collapsible\" style=\"width: 100%;\">\n",
            " <tbody>\n",
            "  <tr>\n",
            "   <th scope=\"col\">\n",
            "    Flight No.\n",
            "   </th>\n",
            "   <th scope=\"col\">\n",
            "    Date and\n",
            "    <br/>\n",
            "    time (\n",
            "    <a href=\"/wiki/Coordinated_Universal_Time\" title=\"Coordinated Universal Time\">\n",
            "     UTC\n",
            "    </a>\n",
            "    )\n",
            "   </th>\n",
            "   <th scope=\"col\">\n",
            "    <a href=\"/wiki/List_of_Falcon_9_first-stage_boosters\" title=\"List of Falcon 9 first-stage boosters\">\n",
            "     Version,\n",
            "     <br/>\n",
            "     Booster\n",
            "    </a>\n",
            "    <sup class=\"reference\" id=\"cite_ref-booster_11-0\">\n",
            "     <a href=\"#cite_note-booster-11\">\n",
            "      [b]\n",
            "     </a>\n",
            "    </sup>\n",
            "   </th>\n",
            "   <th scope=\"col\">\n",
            "    Launch site\n",
            "   </th>\n",
            "   <th scope=\"col\">\n",
            "    Payload\n",
            "    <sup class=\"reference\" id=\"cite_ref-Dragon_12-0\">\n",
            "     <a href=\"#cite_note-Dragon-12\">\n",
            "      [c]\n",
            "     </a>\n",
            "    </sup>\n",
            "   </th>\n",
            "   <th scope=\"col\">\n",
            "    Payload mass\n",
            "   </th>\n",
            "   <th scope=\"col\">\n",
            "    Orbit\n",
            "   </th>\n",
            "   <th scope=\"col\">\n",
            "    Customer\n",
            "   </th>\n",
            "   <th scope=\"col\">\n",
            "    Launch\n",
            "    <br/>\n",
            "    outcome\n",
            "   </th>\n",
            "   <th scope=\"col\">\n",
            "    <a href=\"/wiki/Falcon_9_first-stage_landing_tests\" title=\"Falcon 9 first-stage landing tests\">\n",
            "     Booster\n",
            "     <br/>\n",
            "     landing\n",
            "    </a>\n",
            "   </th>\n",
            "  </tr>\n",
            "  <tr>\n",
            "   <th rowspan=\"2\" scope=\"row\" style=\"text-align:center;\">\n",
            "    1\n",
            "   </th>\n",
            "   <td>\n",
            "    4 June 2010,\n",
            "    <br/>\n",
            "    18:45\n",
            "   </td>\n",
            "   <td>\n",
            "    <a href=\"/wiki/Falcon_9_v1.0\" title=\"Falcon 9 v1.0\">\n",
            "     F9 v1.0\n",
            "    </a>\n",
            "    <sup class=\"reference\" id=\"cite_ref-MuskMay2012_13-0\">\n",
            "     <a href=\"#cite_note-MuskMay2012-13\">\n",
            "      [7]\n",
            "     </a>\n",
            "    </sup>\n",
            "    <br/>\n",
            "    B0003.1\n",
            "    <sup class=\"reference\" id=\"cite_ref-block_numbers_14-0\">\n",
            "     <a href=\"#cite_note-block_numbers-14\">\n",
            "      [8]\n",
            "     </a>\n",
            "    </sup>\n",
            "   </td>\n",
            "   <td>\n",
            "    <a href=\"/wiki/Cape_Canaveral_Space_Force_Station\" title=\"Cape Canaveral Space Force Station\">\n",
            "     CCAFS\n",
            "    </a>\n",
            "    ,\n",
            "    <br/>\n",
            "    <a href=\"/wiki/Cape_Canaveral_Space_Launch_Complex_40\" title=\"Cape Canaveral Space Launch Complex 40\">\n",
            "     SLC-40\n",
            "    </a>\n",
            "   </td>\n",
            "   <td>\n",
            "    <a href=\"/wiki/Dragon_Spacecraft_Qualification_Unit\" title=\"Dragon Spacecraft Qualification Unit\">\n",
            "     Dragon Spacecraft Qualification Unit\n",
            "    </a>\n",
            "   </td>\n",
            "   <td>\n",
            "   </td>\n",
            "   <td>\n",
            "    <a href=\"/wiki/Low_Earth_orbit\" title=\"Low Earth orbit\">\n",
            "     LEO\n",
            "    </a>\n",
            "   </td>\n",
            "   <td>\n",
            "    <a href=\"/wiki/SpaceX\" title=\"SpaceX\">\n",
            "     SpaceX\n",
            "    </a>\n",
            "   </td>\n",
            "   <td class=\"table-success\" style=\"background: #9EFF9E; vertical-align: middle; text-align: center;\">\n",
            "    Success\n",
            "   </td>\n",
            "   <td class=\"table-failure\" style=\"background: #FFC7C7; vertical-align: middle; text-align: center;\">\n",
            "    Failure\n",
            "    <sup class=\"reference\" id=\"cite_ref-ns20110930_15-0\">\n",
            "     <a href=\"#cite_note-ns20110930-15\">\n",
            "      [9]\n",
            "     </a>\n",
            "    </sup>\n",
            "    <sup class=\"reference\" id=\"cite_ref-16\">\n",
            "     <a href=\"#cite_note-16\">\n",
            "      [10]\n",
            "     </a>\n",
            "    </sup>\n",
            "    <br/>\n",
            "    <small>\n",
            "     (parachute)\n",
            "    </small>\n",
            "   </td>\n",
            "  </tr>\n",
            "  <tr>\n",
            "   <td colspan=\"9\">\n",
            "    First flight of Falcon 9 v1.0.\n",
            "    <sup class=\"reference\" id=\"cite_ref-sfn20100604_17-0\">\n",
            "     <a href=\"#cite_note-sfn20100604-17\">\n",
            "      [11]\n",
            "     </a>\n",
            "    </sup>\n",
            "    Used a boilerplate version of Dragon capsule which was not designed to separate from the second stage.\n",
            "    <small>\n",
            "     (\n",
            "     <a href=\"#First_flight_of_Falcon_9\">\n",
            "      more details below\n",
            "     </a>\n",
            "     )\n",
            "    </small>\n",
            "    Attempted to recover the first stage by parachuting it into the ocean, but it burned up on reentry, before the parachutes even deployed.\n",
            "    <sup class=\"reference\" id=\"cite_ref-parachute_18-0\">\n",
            "     <a href=\"#cite_note-parachute-18\">\n",
            "      [12]\n",
            "     </a>\n",
            "    </sup>\n",
            "   </td>\n",
            "  </tr>\n",
            "  <tr>\n",
            "   <th rowspan=\"2\" scope=\"row\" style=\"text-align:center;\">\n",
            "    2\n",
            "   </th>\n",
            "   <td>\n",
            "    8 December 2010,\n",
            "    <br/>\n",
            "    15:43\n",
            "    <sup class=\"reference\" id=\"cite_ref-spaceflightnow_Clark_Launch_Report_19-0\">\n",
            "     <a href=\"#cite_note-spaceflightnow_Clark_Launch_Report-19\">\n",
            "      [13]\n",
            "     </a>\n",
            "    </sup>\n",
            "   </td>\n",
            "   <td>\n",
            "    <a href=\"/wiki/Falcon_9_v1.0\" title=\"Falcon 9 v1.0\">\n",
            "     F9 v1.0\n",
            "    </a>\n",
            "    <sup class=\"reference\" id=\"cite_ref-MuskMay2012_13-1\">\n",
            "     <a href=\"#cite_note-MuskMay2012-13\">\n",
            "      [7]\n",
            "     </a>\n",
            "    </sup>\n",
            "    <br/>\n",
            "    B0004.1\n",
            "    <sup class=\"reference\" id=\"cite_ref-block_numbers_14-1\">\n",
            "     <a href=\"#cite_note-block_numbers-14\">\n",
            "      [8]\n",
            "     </a>\n",
            "    </sup>\n",
            "   </td>\n",
            "   <td>\n",
            "    <a href=\"/wiki/Cape_Canaveral_Space_Force_Station\" title=\"Cape Canaveral Space Force Station\">\n",
            "     CCAFS\n",
            "    </a>\n",
            "    ,\n",
            "    <br/>\n",
            "    <a href=\"/wiki/Cape_Canaveral_Space_Launch_Complex_40\" title=\"Cape Canaveral Space Launch Complex 40\">\n",
            "     SLC-40\n",
            "    </a>\n",
            "   </td>\n",
            "   <td>\n",
            "    <a href=\"/wiki/SpaceX_Dragon\" title=\"SpaceX Dragon\">\n",
            "     Dragon\n",
            "    </a>\n",
            "    <a class=\"mw-redirect\" href=\"/wiki/COTS_Demo_Flight_1\" title=\"COTS Demo Flight 1\">\n",
            "     demo flight C1\n",
            "    </a>\n",
            "    <br/>\n",
            "    (Dragon C101)\n",
            "   </td>\n",
            "   <td>\n",
            "   </td>\n",
            "   <td>\n",
            "    <a href=\"/wiki/Low_Earth_orbit\" title=\"Low Earth orbit\">\n",
            "     LEO\n",
            "    </a>\n",
            "    (\n",
            "    <a href=\"/wiki/International_Space_Station\" title=\"International Space Station\">\n",
            "     ISS\n",
            "    </a>\n",
            "    )\n",
            "   </td>\n",
            "   <td>\n",
            "    <style data-mw-deduplicate=\"TemplateStyles:r1126788409\">\n",
            "     .mw-parser-output .plainlist ol,.mw-parser-output .plainlist ul{line-height:inherit;list-style:none;margin:0;padding:0}.mw-parser-output .plainlist ol li,.mw-parser-output .plainlist ul li{margin-bottom:0}\n",
            "    </style>\n",
            "    <div class=\"plainlist\">\n",
            "     <ul>\n",
            "      <li>\n",
            "       <a href=\"/wiki/NASA\" title=\"NASA\">\n",
            "        NASA\n",
            "       </a>\n",
            "       (\n",
            "       <a href=\"/wiki/Commercial_Orbital_Transportation_Services\" title=\"Commercial Orbital Transportation Services\">\n",
            "        COTS\n",
            "       </a>\n",
            "       )\n",
            "      </li>\n",
            "      <li>\n",
            "       <a href=\"/wiki/National_Reconnaissance_Office\" title=\"National Reconnaissance Office\">\n",
            "        NRO\n",
            "       </a>\n",
            "      </li>\n",
            "     </ul>\n",
            "    </div>\n",
            "   </td>\n",
            "   <td class=\"table-success\" style=\"background: #9EFF9E; vertical-align: middle; text-align: center;\">\n",
            "    Success\n",
            "    <sup class=\"reference\" id=\"cite_ref-ns20110930_15-1\">\n",
            "     <a href=\"#cite_note-ns20110930-15\">\n",
            "      [9]\n",
            "     </a>\n",
            "    </sup>\n",
            "   </td>\n",
            "   <td class=\"table-failure\" style=\"background: #FFC7C7; vertical-align: middle; text-align: center;\">\n",
            "    Failure\n",
            "    <sup class=\"reference\" id=\"cite_ref-ns20110930_15-2\">\n",
            "     <a href=\"#cite_note-ns20110930-15\">\n",
            "      [9]\n",
            "     </a>\n",
            "    </sup>\n",
            "    <sup class=\"reference\" id=\"cite_ref-20\">\n",
            "     <a href=\"#cite_note-20\">\n",
            "      [14]\n",
            "     </a>\n",
            "    </sup>\n",
            "    <br/>\n",
            "    <small>\n",
            "     (parachute)\n",
            "    </small>\n",
            "   </td>\n",
            "  </tr>\n",
            "  <tr>\n",
            "   <td colspan=\"9\">\n",
            "    Maiden flight of\n",
            "    <a class=\"mw-redirect\" href=\"/wiki/Dragon_capsule\" title=\"Dragon capsule\">\n",
            "     Dragon capsule\n",
            "    </a>\n",
            "    , consisting of over 3 hours of testing thruster maneuvering and reentry.\n",
            "    <sup class=\"reference\" id=\"cite_ref-spaceflightnow_Clark_unleashing_Dragon_21-0\">\n",
            "     <a href=\"#cite_note-spaceflightnow_Clark_unleashing_Dragon-21\">\n",
            "      [15]\n",
            "     </a>\n",
            "    </sup>\n",
            "    Attempted to recover the first stage by parachuting it into the ocean, but it disintegrated upon reentry, before the parachutes were deployed.\n",
            "    <sup class=\"reference\" id=\"cite_ref-parachute_18-1\">\n",
            "     <a href=\"#cite_note-parachute-18\">\n",
            "      [12]\n",
            "     </a>\n",
            "    </sup>\n",
            "    <small>\n",
            "     (\n",
            "     <a href=\"#COTS_demo_missions\">\n",
            "      more details below\n",
            "     </a>\n",
            "     )\n",
            "    </small>\n",
            "    It also included two\n",
            "    <a href=\"/wiki/CubeSat\" title=\"CubeSat\">\n",
            "     CubeSats\n",
            "    </a>\n",
            "    ,\n",
            "    <sup class=\"reference\" id=\"cite_ref-NRO_Taps_Boeing_for_Next_Batch_of_CubeSats_22-0\">\n",
            "     <a href=\"#cite_note-NRO_Taps_Boeing_for_Next_Batch_of_CubeSats-22\">\n",
            "      [16]\n",
            "     </a>\n",
            "    </sup>\n",
            "    and a wheel of\n",
            "    <a href=\"/wiki/Brou%C3%A8re\" title=\"Brouère\">\n",
            "     Brouère\n",
            "    </a>\n",
            "    cheese.\n",
            "   </td>\n",
            "  </tr>\n",
            "  <tr>\n",
            "   <th rowspan=\"2\" scope=\"row\" style=\"text-align:center;\">\n",
            "    3\n",
            "   </th>\n",
            "   <td>\n",
            "    22 May 2012,\n",
            "    <br/>\n",
            "    07:44\n",
            "    <sup class=\"reference\" id=\"cite_ref-BBC_new_era_23-0\">\n",
            "     <a href=\"#cite_note-BBC_new_era-23\">\n",
            "      [17]\n",
            "     </a>\n",
            "    </sup>\n",
            "   </td>\n",
            "   <td>\n",
            "    <a href=\"/wiki/Falcon_9_v1.0\" title=\"Falcon 9 v1.0\">\n",
            "     F9 v1.0\n",
            "    </a>\n",
            "    <sup class=\"reference\" id=\"cite_ref-MuskMay2012_13-2\">\n",
            "     <a href=\"#cite_note-MuskMay2012-13\">\n",
            "      [7]\n",
            "     </a>\n",
            "    </sup>\n",
            "    <br/>\n",
            "    B0005.1\n",
            "    <sup class=\"reference\" id=\"cite_ref-block_numbers_14-2\">\n",
            "     <a href=\"#cite_note-block_numbers-14\">\n",
            "      [8]\n",
            "     </a>\n",
            "    </sup>\n",
            "   </td>\n",
            "   <td>\n",
            "    <a href=\"/wiki/Cape_Canaveral_Space_Force_Station\" title=\"Cape Canaveral Space Force Station\">\n",
            "     CCAFS\n",
            "    </a>\n",
            "    ,\n",
            "    <br/>\n",
            "    <a href=\"/wiki/Cape_Canaveral_Space_Launch_Complex_40\" title=\"Cape Canaveral Space Launch Complex 40\">\n",
            "     SLC-40\n",
            "    </a>\n",
            "   </td>\n",
            "   <td>\n",
            "    <a href=\"/wiki/SpaceX_Dragon\" title=\"SpaceX Dragon\">\n",
            "     Dragon\n",
            "    </a>\n",
            "    <a class=\"mw-redirect\" href=\"/wiki/Dragon_C2%2B\" title=\"Dragon C2+\">\n",
            "     demo flight C2+\n",
            "    </a>\n",
            "    <sup class=\"reference\" id=\"cite_ref-C2_24-0\">\n",
            "     <a href=\"#cite_note-C2-24\">\n",
            "      [18]\n",
            "     </a>\n",
            "    </sup>\n",
            "    <br/>\n",
            "    (Dragon C102)\n",
            "   </td>\n",
            "   <td>\n",
            "    525 kg (1,157 lb)\n",
            "    <sup class=\"reference\" id=\"cite_ref-25\">\n",
            "     <a href=\"#cite_note-25\">\n",
            "      [19]\n",
            "     </a>\n",
            "    </sup>\n",
            "   </td>\n",
            "   <td>\n",
            "    <a href=\"/wiki/Low_Earth_orbit\" title=\"Low Earth orbit\">\n",
            "     LEO\n",
            "    </a>\n",
            "    (\n",
            "    <a href=\"/wiki/International_Space_Station\" title=\"International Space Station\">\n",
            "     ISS\n",
            "    </a>\n",
            "    )\n",
            "   </td>\n",
            "   <td>\n",
            "    <a href=\"/wiki/NASA\" title=\"NASA\">\n",
            "     NASA\n",
            "    </a>\n",
            "    (\n",
            "    <a href=\"/wiki/Commercial_Orbital_Transportation_Services\" title=\"Commercial Orbital Transportation Services\">\n",
            "     COTS\n",
            "    </a>\n",
            "    )\n",
            "   </td>\n",
            "   <td class=\"table-success\" style=\"background: #9EFF9E; vertical-align: middle; text-align: center;\">\n",
            "    Success\n",
            "    <sup class=\"reference\" id=\"cite_ref-26\">\n",
            "     <a href=\"#cite_note-26\">\n",
            "      [20]\n",
            "     </a>\n",
            "    </sup>\n",
            "   </td>\n",
            "   <td class=\"table-noAttempt\" style=\"background: #EEE; vertical-align: middle; white-space: nowrap; text-align: center;\">\n",
            "    No attempt\n",
            "   </td>\n",
            "  </tr>\n",
            "  <tr>\n",
            "   <td colspan=\"9\">\n",
            "    Dragon spacecraft demonstrated a series of tests before it was allowed to approach the\n",
            "    <a href=\"/wiki/International_Space_Station\" title=\"International Space Station\">\n",
            "     International Space Station\n",
            "    </a>\n",
            "    . Two days later, it became the first commercial spacecraft to board the ISS.\n",
            "    <sup class=\"reference\" id=\"cite_ref-BBC_new_era_23-1\">\n",
            "     <a href=\"#cite_note-BBC_new_era-23\">\n",
            "      [17]\n",
            "     </a>\n",
            "    </sup>\n",
            "    <small>\n",
            "     (\n",
            "     <a href=\"#COTS_demo_missions\">\n",
            "      more details below\n",
            "     </a>\n",
            "     )\n",
            "    </small>\n",
            "   </td>\n",
            "  </tr>\n",
            "  <tr>\n",
            "   <th rowspan=\"3\" scope=\"row\" style=\"text-align:center;\">\n",
            "    4\n",
            "   </th>\n",
            "   <td rowspan=\"2\">\n",
            "    8 October 2012,\n",
            "    <br/>\n",
            "    00:35\n",
            "    <sup class=\"reference\" id=\"cite_ref-SFN_LLog_27-0\">\n",
            "     <a href=\"#cite_note-SFN_LLog-27\">\n",
            "      [21]\n",
            "     </a>\n",
            "    </sup>\n",
            "   </td>\n",
            "   <td rowspan=\"2\">\n",
            "    <a href=\"/wiki/Falcon_9_v1.0\" title=\"Falcon 9 v1.0\">\n",
            "     F9 v1.0\n",
            "    </a>\n",
            "    <sup class=\"reference\" id=\"cite_ref-MuskMay2012_13-3\">\n",
            "     <a href=\"#cite_note-MuskMay2012-13\">\n",
            "      [7]\n",
            "     </a>\n",
            "    </sup>\n",
            "    <br/>\n",
            "    B0006.1\n",
            "    <sup class=\"reference\" id=\"cite_ref-block_numbers_14-3\">\n",
            "     <a href=\"#cite_note-block_numbers-14\">\n",
            "      [8]\n",
            "     </a>\n",
            "    </sup>\n",
            "   </td>\n",
            "   <td rowspan=\"2\">\n",
            "    <a href=\"/wiki/Cape_Canaveral_Space_Force_Station\" title=\"Cape Canaveral Space Force Station\">\n",
            "     CCAFS\n",
            "    </a>\n",
            "    ,\n",
            "    <br/>\n",
            "    <a href=\"/wiki/Cape_Canaveral_Space_Launch_Complex_40\" title=\"Cape Canaveral Space Launch Complex 40\">\n",
            "     SLC-40\n",
            "    </a>\n",
            "   </td>\n",
            "   <td>\n",
            "    <a href=\"/wiki/SpaceX_CRS-1\" title=\"SpaceX CRS-1\">\n",
            "     SpaceX CRS-1\n",
            "    </a>\n",
            "    <sup class=\"reference\" id=\"cite_ref-sxManifest20120925_28-0\">\n",
            "     <a href=\"#cite_note-sxManifest20120925-28\">\n",
            "      [22]\n",
            "     </a>\n",
            "    </sup>\n",
            "    <br/>\n",
            "    (Dragon C103)\n",
            "   </td>\n",
            "   <td>\n",
            "    4,700 kg (10,400 lb)\n",
            "   </td>\n",
            "   <td>\n",
            "    <a href=\"/wiki/Low_Earth_orbit\" title=\"Low Earth orbit\">\n",
            "     LEO\n",
            "    </a>\n",
            "    (\n",
            "    <a href=\"/wiki/International_Space_Station\" title=\"International Space Station\">\n",
            "     ISS\n",
            "    </a>\n",
            "    )\n",
            "   </td>\n",
            "   <td>\n",
            "    <a href=\"/wiki/NASA\" title=\"NASA\">\n",
            "     NASA\n",
            "    </a>\n",
            "    (\n",
            "    <a href=\"/wiki/Commercial_Resupply_Services\" title=\"Commercial Resupply Services\">\n",
            "     CRS\n",
            "    </a>\n",
            "    )\n",
            "   </td>\n",
            "   <td class=\"table-success\" style=\"background: #9EFF9E; vertical-align: middle; text-align: center;\">\n",
            "    Success\n",
            "   </td>\n",
            "   <td rowspan=\"2\" style=\"background:#ececec; text-align:center;\">\n",
            "    <span class=\"nowrap\">\n",
            "     No attempt\n",
            "    </span>\n",
            "   </td>\n",
            "  </tr>\n",
            "  <tr>\n",
            "   <td>\n",
            "    <a href=\"/wiki/Orbcomm_(satellite)\" title=\"Orbcomm (satellite)\">\n",
            "     Orbcomm-OG2\n",
            "    </a>\n",
            "    <sup class=\"reference\" id=\"cite_ref-Orbcomm_29-0\">\n",
            "     <a href=\"#cite_note-Orbcomm-29\">\n",
            "      [23]\n",
            "     </a>\n",
            "    </sup>\n",
            "   </td>\n",
            "   <td>\n",
            "    172 kg (379 lb)\n",
            "    <sup class=\"reference\" id=\"cite_ref-gunter-og2_30-0\">\n",
            "     <a href=\"#cite_note-gunter-og2-30\">\n",
            "      [24]\n",
            "     </a>\n",
            "    </sup>\n",
            "   </td>\n",
            "   <td>\n",
            "    <a href=\"/wiki/Low_Earth_orbit\" title=\"Low Earth orbit\">\n",
            "     LEO\n",
            "    </a>\n",
            "   </td>\n",
            "   <td>\n",
            "    <a href=\"/wiki/Orbcomm\" title=\"Orbcomm\">\n",
            "     Orbcomm\n",
            "    </a>\n",
            "   </td>\n",
            "   <td class=\"table-partial\" style=\"background: #FE9; vertical-align: middle; text-align: center;\">\n",
            "    Partial failure\n",
            "    <sup class=\"reference\" id=\"cite_ref-nyt-20121030_31-0\">\n",
            "     <a href=\"#cite_note-nyt-20121030-31\">\n",
            "      [25]\n",
            "     </a>\n",
            "    </sup>\n",
            "   </td>\n",
            "  </tr>\n",
            "  <tr>\n",
            "   <td colspan=\"9\">\n",
            "    CRS-1 was successful, but the\n",
            "    <a href=\"/wiki/Secondary_payload\" title=\"Secondary payload\">\n",
            "     secondary payload\n",
            "    </a>\n",
            "    was inserted into an abnormally low orbit and subsequently lost. This was due to one of the nine\n",
            "    <a href=\"/wiki/SpaceX_Merlin\" title=\"SpaceX Merlin\">\n",
            "     Merlin engines\n",
            "    </a>\n",
            "    shutting down during the launch, and NASA declining a second reignition, as per\n",
            "    <a href=\"/wiki/International_Space_Station\" title=\"International Space Station\">\n",
            "     ISS\n",
            "    </a>\n",
            "    visiting vehicle safety rules, the primary payload owner is contractually allowed to decline a second reignition. NASA stated that this was because SpaceX could not guarantee a high enough likelihood of the second stage completing the second burn successfully which was required to avoid any risk of secondary payload's collision with the ISS.\n",
            "    <sup class=\"reference\" id=\"cite_ref-OrbcommTotalLoss_32-0\">\n",
            "     <a href=\"#cite_note-OrbcommTotalLoss-32\">\n",
            "      [26]\n",
            "     </a>\n",
            "    </sup>\n",
            "    <sup class=\"reference\" id=\"cite_ref-sn20121011_33-0\">\n",
            "     <a href=\"#cite_note-sn20121011-33\">\n",
            "      [27]\n",
            "     </a>\n",
            "    </sup>\n",
            "    <sup class=\"reference\" id=\"cite_ref-34\">\n",
            "     <a href=\"#cite_note-34\">\n",
            "      [28]\n",
            "     </a>\n",
            "    </sup>\n",
            "   </td>\n",
            "  </tr>\n",
            "  <tr>\n",
            "   <th rowspan=\"2\" scope=\"row\" style=\"text-align:center;\">\n",
            "    5\n",
            "   </th>\n",
            "   <td>\n",
            "    1 March 2013,\n",
            "    <br/>\n",
            "    15:10\n",
            "   </td>\n",
            "   <td>\n",
            "    <a href=\"/wiki/Falcon_9_v1.0\" title=\"Falcon 9 v1.0\">\n",
            "     F9 v1.0\n",
            "    </a>\n",
            "    <sup class=\"reference\" id=\"cite_ref-MuskMay2012_13-4\">\n",
            "     <a href=\"#cite_note-MuskMay2012-13\">\n",
            "      [7]\n",
            "     </a>\n",
            "    </sup>\n",
            "    <br/>\n",
            "    B0007.1\n",
            "    <sup class=\"reference\" id=\"cite_ref-block_numbers_14-4\">\n",
            "     <a href=\"#cite_note-block_numbers-14\">\n",
            "      [8]\n",
            "     </a>\n",
            "    </sup>\n",
            "   </td>\n",
            "   <td>\n",
            "    <a href=\"/wiki/Cape_Canaveral_Space_Force_Station\" title=\"Cape Canaveral Space Force Station\">\n",
            "     CCAFS\n",
            "    </a>\n",
            "    ,\n",
            "    <br/>\n",
            "    <a href=\"/wiki/Cape_Canaveral_Space_Launch_Complex_40\" title=\"Cape Canaveral Space Launch Complex 40\">\n",
            "     SLC-40\n",
            "    </a>\n",
            "   </td>\n",
            "   <td>\n",
            "    <a href=\"/wiki/SpaceX_CRS-2\" title=\"SpaceX CRS-2\">\n",
            "     SpaceX CRS-2\n",
            "    </a>\n",
            "    <sup class=\"reference\" id=\"cite_ref-sxManifest20120925_28-1\">\n",
            "     <a href=\"#cite_note-sxManifest20120925-28\">\n",
            "      [22]\n",
            "     </a>\n",
            "    </sup>\n",
            "    <br/>\n",
            "    (Dragon C104)\n",
            "   </td>\n",
            "   <td>\n",
            "    4,877 kg (10,752 lb)\n",
            "   </td>\n",
            "   <td>\n",
            "    <a href=\"/wiki/Low_Earth_orbit\" title=\"Low Earth orbit\">\n",
            "     LEO\n",
            "    </a>\n",
            "    (\n",
            "    <a class=\"mw-redirect\" href=\"/wiki/ISS\" title=\"ISS\">\n",
            "     ISS\n",
            "    </a>\n",
            "    )\n",
            "   </td>\n",
            "   <td>\n",
            "    <a href=\"/wiki/NASA\" title=\"NASA\">\n",
            "     NASA\n",
            "    </a>\n",
            "    (\n",
            "    <a href=\"/wiki/Commercial_Resupply_Services\" title=\"Commercial Resupply Services\">\n",
            "     CRS\n",
            "    </a>\n",
            "    )\n",
            "   </td>\n",
            "   <td class=\"table-success\" style=\"background: #9EFF9E; vertical-align: middle; text-align: center;\">\n",
            "    Success\n",
            "   </td>\n",
            "   <td class=\"table-noAttempt\" style=\"background: #EEE; vertical-align: middle; white-space: nowrap; text-align: center;\">\n",
            "    No attempt\n",
            "   </td>\n",
            "  </tr>\n",
            "  <tr>\n",
            "   <td colspan=\"9\">\n",
            "    Last launch of the original Falcon 9 v1.0\n",
            "    <a href=\"/wiki/Launch_vehicle\" title=\"Launch vehicle\">\n",
            "     launch vehicle\n",
            "    </a>\n",
            "    , first use of the unpressurized trunk section of Dragon.\n",
            "    <sup class=\"reference\" id=\"cite_ref-sxf9_20110321_35-0\">\n",
            "     <a href=\"#cite_note-sxf9_20110321-35\">\n",
            "      [29]\n",
            "     </a>\n",
            "    </sup>\n",
            "   </td>\n",
            "  </tr>\n",
            "  <tr>\n",
            "   <th rowspan=\"2\" scope=\"row\" style=\"text-align:center;\">\n",
            "    6\n",
            "   </th>\n",
            "   <td>\n",
            "    29 September 2013,\n",
            "    <br/>\n",
            "    16:00\n",
            "    <sup class=\"reference\" id=\"cite_ref-pa20130930_36-0\">\n",
            "     <a href=\"#cite_note-pa20130930-36\">\n",
            "      [30]\n",
            "     </a>\n",
            "    </sup>\n",
            "   </td>\n",
            "   <td>\n",
            "    <a href=\"/wiki/Falcon_9_v1.1\" title=\"Falcon 9 v1.1\">\n",
            "     F9 v1.1\n",
            "    </a>\n",
            "    <sup class=\"reference\" id=\"cite_ref-MuskMay2012_13-5\">\n",
            "     <a href=\"#cite_note-MuskMay2012-13\">\n",
            "      [7]\n",
            "     </a>\n",
            "    </sup>\n",
            "    <br/>\n",
            "    B1003\n",
            "    <sup class=\"reference\" id=\"cite_ref-block_numbers_14-5\">\n",
            "     <a href=\"#cite_note-block_numbers-14\">\n",
            "      [8]\n",
            "     </a>\n",
            "    </sup>\n",
            "   </td>\n",
            "   <td>\n",
            "    <a class=\"mw-redirect\" href=\"/wiki/Vandenberg_Air_Force_Base\" title=\"Vandenberg Air Force Base\">\n",
            "     VAFB\n",
            "    </a>\n",
            "    ,\n",
            "    <br/>\n",
            "    <a href=\"/wiki/Vandenberg_Space_Launch_Complex_4\" title=\"Vandenberg Space Launch Complex 4\">\n",
            "     SLC-4E\n",
            "    </a>\n",
            "   </td>\n",
            "   <td>\n",
            "    <a href=\"/wiki/CASSIOPE\" title=\"CASSIOPE\">\n",
            "     CASSIOPE\n",
            "    </a>\n",
            "    <sup class=\"reference\" id=\"cite_ref-sxManifest20120925_28-2\">\n",
            "     <a href=\"#cite_note-sxManifest20120925-28\">\n",
            "      [22]\n",
            "     </a>\n",
            "    </sup>\n",
            "    <sup class=\"reference\" id=\"cite_ref-CASSIOPE_MDA_37-0\">\n",
            "     <a href=\"#cite_note-CASSIOPE_MDA-37\">\n",
            "      [31]\n",
            "     </a>\n",
            "    </sup>\n",
            "   </td>\n",
            "   <td>\n",
            "    500 kg (1,100 lb)\n",
            "   </td>\n",
            "   <td>\n",
            "    <a href=\"/wiki/Polar_orbit\" title=\"Polar orbit\">\n",
            "     Polar orbit\n",
            "    </a>\n",
            "    <a href=\"/wiki/Low_Earth_orbit\" title=\"Low Earth orbit\">\n",
            "     LEO\n",
            "    </a>\n",
            "   </td>\n",
            "   <td>\n",
            "    <a href=\"/wiki/Maxar_Technologies\" title=\"Maxar Technologies\">\n",
            "     MDA\n",
            "    </a>\n",
            "   </td>\n",
            "   <td class=\"table-success\" style=\"background: #9EFF9E; vertical-align: middle; text-align: center;\">\n",
            "    Success\n",
            "    <sup class=\"reference\" id=\"cite_ref-pa20130930_36-1\">\n",
            "     <a href=\"#cite_note-pa20130930-36\">\n",
            "      [30]\n",
            "     </a>\n",
            "    </sup>\n",
            "   </td>\n",
            "   <td class=\"table-no2\" style=\"background: #FFE3E3; color: black; vertical-align: middle; text-align: center;\">\n",
            "    Uncontrolled\n",
            "    <br/>\n",
            "    <small>\n",
            "     (ocean)\n",
            "    </small>\n",
            "    <sup class=\"reference\" id=\"cite_ref-ocean_landing_38-0\">\n",
            "     <a href=\"#cite_note-ocean_landing-38\">\n",
            "      [d]\n",
            "     </a>\n",
            "    </sup>\n",
            "   </td>\n",
            "  </tr>\n",
            "  <tr>\n",
            "   <td colspan=\"9\">\n",
            "    First commercial mission with a private customer, first launch from Vandenberg, and demonstration flight of Falcon 9 v1.1 with an improved 13-tonne to LEO capacity.\n",
            "    <sup class=\"reference\" id=\"cite_ref-sxf9_20110321_35-1\">\n",
            "     <a href=\"#cite_note-sxf9_20110321-35\">\n",
            "      [29]\n",
            "     </a>\n",
            "    </sup>\n",
            "    After separation from the second stage carrying Canadian commercial and scientific satellites, the first stage booster performed a controlled reentry,\n",
            "    <sup class=\"reference\" id=\"cite_ref-39\">\n",
            "     <a href=\"#cite_note-39\">\n",
            "      [32]\n",
            "     </a>\n",
            "    </sup>\n",
            "    and an\n",
            "    <a href=\"/wiki/Falcon_9_first-stage_landing_tests\" title=\"Falcon 9 first-stage landing tests\">\n",
            "     ocean touchdown test\n",
            "    </a>\n",
            "    for the first time. This provided good test data, even though the booster started rolling as it neared the ocean, leading to the shutdown of the central engine as the roll depleted it of fuel, resulting in a hard impact with the ocean.\n",
            "    <sup class=\"reference\" id=\"cite_ref-pa20130930_36-2\">\n",
            "     <a href=\"#cite_note-pa20130930-36\">\n",
            "      [30]\n",
            "     </a>\n",
            "    </sup>\n",
            "    This was the first known attempt of a rocket engine being lit to perform a supersonic retro propulsion, and allowed SpaceX to enter a public-private partnership with\n",
            "    <a href=\"/wiki/NASA\" title=\"NASA\">\n",
            "     NASA\n",
            "    </a>\n",
            "    and its Mars entry, descent, and landing technologies research projects.\n",
            "    <sup class=\"reference\" id=\"cite_ref-40\">\n",
            "     <a href=\"#cite_note-40\">\n",
            "      [33]\n",
            "     </a>\n",
            "    </sup>\n",
            "    <small>\n",
            "     (\n",
            "     <a href=\"#Maiden_flight_of_v1.1\">\n",
            "      more details below\n",
            "     </a>\n",
            "     )\n",
            "    </small>\n",
            "   </td>\n",
            "  </tr>\n",
            "  <tr>\n",
            "   <th rowspan=\"2\" scope=\"row\" style=\"text-align:center;\">\n",
            "    7\n",
            "   </th>\n",
            "   <td>\n",
            "    3 December 2013,\n",
            "    <br/>\n",
            "    22:41\n",
            "    <sup class=\"reference\" id=\"cite_ref-sfn_wwls20130624_41-0\">\n",
            "     <a href=\"#cite_note-sfn_wwls20130624-41\">\n",
            "      [34]\n",
            "     </a>\n",
            "    </sup>\n",
            "   </td>\n",
            "   <td>\n",
            "    <a href=\"/wiki/Falcon_9_v1.1\" title=\"Falcon 9 v1.1\">\n",
            "     F9 v1.1\n",
            "    </a>\n",
            "    <br/>\n",
            "    B1004\n",
            "   </td>\n",
            "   <td>\n",
            "    <a href=\"/wiki/Cape_Canaveral_Space_Force_Station\" title=\"Cape Canaveral Space Force Station\">\n",
            "     CCAFS\n",
            "    </a>\n",
            "    ,\n",
            "    <br/>\n",
            "    <a href=\"/wiki/Cape_Canaveral_Space_Launch_Complex_40\" title=\"Cape Canaveral Space Launch Complex 40\">\n",
            "     SLC-40\n",
            "    </a>\n",
            "   </td>\n",
            "   <td>\n",
            "    <a href=\"/wiki/SES-8\" title=\"SES-8\">\n",
            "     SES-8\n",
            "    </a>\n",
            "    <sup class=\"reference\" id=\"cite_ref-sxManifest20120925_28-3\">\n",
            "     <a href=\"#cite_note-sxManifest20120925-28\">\n",
            "      [22]\n",
            "     </a>\n",
            "    </sup>\n",
            "    <sup class=\"reference\" id=\"cite_ref-spx-pr_42-0\">\n",
            "     <a href=\"#cite_note-spx-pr-42\">\n",
            "      [35]\n",
            "     </a>\n",
            "    </sup>\n",
            "    <sup class=\"reference\" id=\"cite_ref-aw20110323_43-0\">\n",
            "     <a href=\"#cite_note-aw20110323-43\">\n",
            "      [36]\n",
            "     </a>\n",
            "    </sup>\n",
            "   </td>\n",
            "   <td>\n",
            "    3,170 kg (6,990 lb)\n",
            "   </td>\n",
            "   <td>\n",
            "    <a href=\"/wiki/Geostationary_transfer_orbit\" title=\"Geostationary transfer orbit\">\n",
            "     GTO\n",
            "    </a>\n",
            "   </td>\n",
            "   <td>\n",
            "    <a href=\"/wiki/SES_S.A.\" title=\"SES S.A.\">\n",
            "     SES\n",
            "    </a>\n",
            "   </td>\n",
            "   <td class=\"table-success\" style=\"background: #9EFF9E; vertical-align: middle; text-align: center;\">\n",
            "    Success\n",
            "    <sup class=\"reference\" id=\"cite_ref-SNMissionStatus7_44-0\">\n",
            "     <a href=\"#cite_note-SNMissionStatus7-44\">\n",
            "      [37]\n",
            "     </a>\n",
            "    </sup>\n",
            "   </td>\n",
            "   <td class=\"table-noAttempt\" style=\"background: #EEE; vertical-align: middle; white-space: nowrap; text-align: center;\">\n",
            "    No attempt\n",
            "    <br/>\n",
            "    <sup class=\"reference\" id=\"cite_ref-sf10120131203_45-0\">\n",
            "     <a href=\"#cite_note-sf10120131203-45\">\n",
            "      [38]\n",
            "     </a>\n",
            "    </sup>\n",
            "   </td>\n",
            "  </tr>\n",
            "  <tr>\n",
            "   <td colspan=\"9\">\n",
            "    First\n",
            "    <a href=\"/wiki/Geostationary_transfer_orbit\" title=\"Geostationary transfer orbit\">\n",
            "     Geostationary transfer orbit\n",
            "    </a>\n",
            "    (GTO) launch for Falcon 9,\n",
            "    <sup class=\"reference\" id=\"cite_ref-spx-pr_42-1\">\n",
            "     <a href=\"#cite_note-spx-pr-42\">\n",
            "      [35]\n",
            "     </a>\n",
            "    </sup>\n",
            "    and first successful reignition of the second stage.\n",
            "    <sup class=\"reference\" id=\"cite_ref-46\">\n",
            "     <a href=\"#cite_note-46\">\n",
            "      [39]\n",
            "     </a>\n",
            "    </sup>\n",
            "    SES-8 was inserted into a\n",
            "    <a href=\"/wiki/Geostationary_transfer_orbit\" title=\"Geostationary transfer orbit\">\n",
            "     Super-Synchronous Transfer Orbit\n",
            "    </a>\n",
            "    of 79,341 km (49,300 mi) in apogee with an\n",
            "    <a href=\"/wiki/Orbital_inclination\" title=\"Orbital inclination\">\n",
            "     inclination\n",
            "    </a>\n",
            "    of 20.55° to the\n",
            "    <a href=\"/wiki/Equator\" title=\"Equator\">\n",
            "     equator\n",
            "    </a>\n",
            "    .\n",
            "   </td>\n",
            "  </tr>\n",
            " </tbody>\n",
            "</table>\n",
            "\n"
          ]
        }
      ],
      "source": [
        "# Find all tables within the HTML\n",
        "html_tables = soup.find_all('table')\n",
        "\n",
        "# Get the third table (our target table with launch records)\n",
        "first_launch_table = html_tables[2]\n",
        "\n",
        "# Pretty print the third table with formatted HTML\n",
        "print(first_launch_table.prettify())"
      ]
    },
    {
      "attachments": {},
      "cell_type": "markdown",
      "metadata": {
        "id": "elDWTjiNTuc3"
      },
      "source": [
        "You should able to see the columns names embedded in the table header elements `<th>` as follows:\n"
      ]
    },
    {
      "attachments": {},
      "cell_type": "markdown",
      "metadata": {
        "id": "YwbWfdxyTuc3"
      },
      "source": [
        "```\n",
        "<tr>\n",
        "<th scope=\"col\">Flight No.\n",
        "</th>\n",
        "<th scope=\"col\">Date and<br/>time (<a href=\"/wiki/Coordinated_Universal_Time\" title=\"Coordinated Universal Time\">UTC</a>)\n",
        "</th>\n",
        "<th scope=\"col\"><a href=\"/wiki/List_of_Falcon_9_first-stage_boosters\" title=\"List of Falcon 9 first-stage boosters\">Version,<br/>Booster</a> <sup class=\"reference\" id=\"cite_ref-booster_11-0\"><a href=\"#cite_note-booster-11\">[b]</a></sup>\n",
        "</th>\n",
        "<th scope=\"col\">Launch site\n",
        "</th>\n",
        "<th scope=\"col\">Payload<sup class=\"reference\" id=\"cite_ref-Dragon_12-0\"><a href=\"#cite_note-Dragon-12\">[c]</a></sup>\n",
        "</th>\n",
        "<th scope=\"col\">Payload mass\n",
        "</th>\n",
        "<th scope=\"col\">Orbit\n",
        "</th>\n",
        "<th scope=\"col\">Customer\n",
        "</th>\n",
        "<th scope=\"col\">Launch<br/>outcome\n",
        "</th>\n",
        "<th scope=\"col\"><a href=\"/wiki/Falcon_9_first-stage_landing_tests\" title=\"Falcon 9 first-stage landing tests\">Booster<br/>landing</a>\n",
        "</th></tr>\n",
        "```\n"
      ]
    },
    {
      "attachments": {},
      "cell_type": "markdown",
      "metadata": {
        "id": "Ufy0k74DTuc3"
      },
      "source": [
        "Next, we just need to iterate through the `<th>` elements and apply the provided `extract_column_from_header()` to extract column name one by one\n"
      ]
    },
    {
      "cell_type": "code",
      "execution_count": 10,
      "metadata": {
        "id": "3qROrxuNTuc3"
      },
      "outputs": [],
      "source": [
        "column_names = []\n",
        "\n",
        "# Find all 'th' elements in the third table\n",
        "for th in first_launch_table.find_all('th'):\n",
        "    # Extract the column name from the th element\n",
        "    name = extract_column_from_header(th)\n",
        "    # If the column name is not empty, append it to the list of column names\n",
        "    if name is not None and len(name) > 0:\n",
        "        column_names.append(name)\n",
        "\n",
        "\n"
      ]
    },
    {
      "attachments": {},
      "cell_type": "markdown",
      "metadata": {
        "id": "JF0VmXQ0Tuc4"
      },
      "source": [
        "Check the extracted column names\n"
      ]
    },
    {
      "cell_type": "code",
      "execution_count": 11,
      "metadata": {
        "colab": {
          "base_uri": "https://localhost:8080/"
        },
        "id": "ZnECAZ-STudA",
        "outputId": "ac286cc3-9f10-40fb-a582-9d77b3fb4904"
      },
      "outputs": [
        {
          "name": "stdout",
          "output_type": "stream",
          "text": [
            "['Flight No.', 'Date and time ( )', 'Launch site', 'Payload', 'Payload mass', 'Orbit', 'Customer', 'Launch outcome']\n"
          ]
        }
      ],
      "source": [
        "# Print the column names\n",
        "print(column_names)"
      ]
    },
    {
      "attachments": {},
      "cell_type": "markdown",
      "metadata": {
        "id": "3VcEDlqsTudA"
      },
      "source": [
        "## TASK 3: Create a data frame by parsing the launch HTML tables\n"
      ]
    },
    {
      "attachments": {},
      "cell_type": "markdown",
      "metadata": {
        "id": "XoBw0HmGTudA"
      },
      "source": [
        "We will create an empty dictionary with keys from the extracted column names in the previous task. Later, this dictionary will be converted into a Pandas dataframe\n"
      ]
    },
    {
      "cell_type": "code",
      "execution_count": 12,
      "metadata": {
        "id": "yMHc8qnSTudB"
      },
      "outputs": [],
      "source": [
        "# Creating an empty dictionary\n",
        "launch_dict= dict.fromkeys(column_names)\n",
        "\n",
        "# Remove an irrelevant column\n",
        "del launch_dict['Date and time ( )']\n",
        "\n",
        "# Initializing the dictionary with keys and empty lists\n",
        "launch_dict['Flight No.'] = []\n",
        "launch_dict['Launch site'] = []\n",
        "launch_dict['Payload'] = []\n",
        "launch_dict['Payload mass'] = []\n",
        "launch_dict['Orbit'] = []\n",
        "launch_dict['Customer'] = []\n",
        "launch_dict['Launch outcome'] = []\n",
        "# Added some new columns\n",
        "launch_dict['Version Booster']=[]\n",
        "launch_dict['Booster landing']=[]\n",
        "launch_dict['Date']=[]\n",
        "launch_dict['Time']=[]"
      ]
    },
    {
      "attachments": {},
      "cell_type": "markdown",
      "metadata": {
        "id": "fslXJwcLTudB"
      },
      "source": [
        "# Next, we just need to fill up the `launch_dict` with launch records extracted from table rows.\n"
      ]
    },
    {
      "attachments": {},
      "cell_type": "markdown",
      "metadata": {
        "id": "vKpHviDzTudB"
      },
      "source": [
        "Usually, HTML tables in Wiki pages are likely to contain unexpected annotations and other types of noises, such as reference links `B0004.1[8]`, missing values `N/A [e]`, inconsistent formatting, etc.\n"
      ]
    },
    {
      "attachments": {},
      "cell_type": "markdown",
      "metadata": {
        "id": "wh8y73XCTudB"
      },
      "source": [
        "To simplify the parsing process, we have provided an incomplete code snippet below to help you to fill up the `launch_dict`. Please complete the following code snippet with TODOs or you can choose to write your own logic to parse all launch tables:\n"
      ]
    },
    {
      "cell_type": "code",
      "execution_count": 13,
      "metadata": {
        "id": "bi93yJNUTudB"
      },
      "outputs": [],
      "source": [
        "extracted_row = 0\n",
        "# Extract each table\n",
        "for table_number, table in enumerate(soup.find_all('table', \"wikitable plainrowheaders collapsible\")):\n",
        "   # Get table rows\n",
        "    for rows in table.find_all(\"tr\"):\n",
        "        # Check to see if first table heading is a number corresponding to launch number \n",
        "        if rows.th:\n",
        "            if rows.th.string:\n",
        "                flight_number = rows.th.string.strip()\n",
        "                flag = flight_number.isdigit()\n",
        "        else:\n",
        "            flag = False\n",
        "        # Get table elements\n",
        "        row = rows.find_all('td')\n",
        "        # If it is a number, save cells in a dictionary\n",
        "        if flag:\n",
        "            extracted_row += 1\n",
        "            # Flight Number value\n",
        "            launch_dict['Flight No.'].append(flight_number)\n",
        "            datatimelist = date_time(row[0])\n",
        "            # Date value\n",
        "            launch_dict['Date'].append(datatimelist[0].strip(','))\n",
        "            # Time value\n",
        "            launch_dict['Time'].append(datatimelist[1])\n",
        "            # Booster version\n",
        "            bv = booster_version(row[1])\n",
        "            if not(bv):\n",
        "                bv = row[1].a.string\n",
        "            launch_dict['Version Booster'].append(bv)\n",
        "            # Launch Site\n",
        "            launch_dict['Launch site'].append(row[2].a.string)\n",
        "            # Payload\n",
        "            launch_dict['Payload'].append(row[3].a.string)\n",
        "            # Payload Mass\n",
        "            launch_dict['Payload mass'].append(get_mass(row[4]))\n",
        "            # Orbit\n",
        "            launch_dict['Orbit'].append(row[5].a.string)\n",
        "            # Customer\n",
        "            if row[6].a is not None:\n",
        "                launch_dict['Customer'].append(row[6].a.string)\n",
        "            else:\n",
        "                launch_dict['Customer'].append('N/A')\n",
        "            # Launch outcome\n",
        "            launch_dict['Launch outcome'].append(list(row[7].strings)[0])\n",
        "            # Booster landing\n",
        "            launch_dict['Booster landing'].append(landing_status(row[8]))\n",
        "            "
      ]
    },
    {
      "attachments": {},
      "cell_type": "markdown",
      "metadata": {
        "id": "ekteFFawTudB"
      },
      "source": [
        "After you have fill in the parsed launch record values into `launch_dict`, you \n",
        "\n",
        "can create a dataframe from it.\n"
      ]
    },
    {
      "cell_type": "code",
      "execution_count": 14,
      "metadata": {
        "id": "-KGJdY1eTudB"
      },
      "outputs": [],
      "source": [
        "df=pd.DataFrame(launch_dict)"
      ]
    },
    {
      "attachments": {},
      "cell_type": "markdown",
      "metadata": {
        "id": "trH79jq6TudC"
      },
      "source": [
        "We can now export it to a <b>CSV</b> for the next section, but to make the answers consistent and in case you have difficulties finishing this lab. \n",
        "\n",
        "Following labs will be using a provided dataset to make each lab independent. \n"
      ]
    },
    {
      "cell_type": "code",
      "execution_count": 15,
      "metadata": {
        "id": "1x-ayS42V6Ob"
      },
      "outputs": [],
      "source": [
        "csv_file = 'launch_data.csv'\n",
        "\n",
        "# Save dataframe to CSV\n",
        "df.to_csv(csv_file, index=False)"
      ]
    }
  ],
  "metadata": {
    "colab": {
      "provenance": []
    },
    "kernelspec": {
      "display_name": "base",
      "language": "python",
      "name": "python3"
    },
    "language_info": {
      "codemirror_mode": {
        "name": "ipython",
        "version": 3
      },
      "file_extension": ".py",
      "mimetype": "text/x-python",
      "name": "python",
      "nbconvert_exporter": "python",
      "pygments_lexer": "ipython3",
      "version": "3.10.9"
    }
  },
  "nbformat": 4,
  "nbformat_minor": 0
}
